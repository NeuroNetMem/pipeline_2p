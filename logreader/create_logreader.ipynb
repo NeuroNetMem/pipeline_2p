{
 "cells": [
  {
   "cell_type": "code",
   "execution_count": null,
   "id": "dd080fc8-0626-4059-88ec-f87629ab2e9b",
   "metadata": {},
   "outputs": [],
   "source": [
    "def create_bp_structure(bp):\n",
    "    print('Decoding log file')\n",
    "    # Format package\n",
    "    DataPacketDesc = {'type': 'B',\n",
    "                      'size': 'B',\n",
    "                      'crc16': 'H',\n",
    "                      'packetID': 'I',\n",
    "                      'us_start': 'I',\n",
    "                      'us_end': 'I',\n",
    "                      'analog': '8H',\n",
    "                      'states': '8l',\n",
    "                      'digitalIn': 'H',\n",
    "                      'digitalOut': 'B',\n",
    "                      'padding': 'x'}\n",
    "\n",
    "    DataPacket = namedtuple('DataPacket', DataPacketDesc.keys())\n",
    "    DataPacketStruct = '<' + ''.join(DataPacketDesc.values())\n",
    "    DataPacketSize = struct.calcsize(DataPacketStruct)\n",
    "\n",
    "    # package with non-digital data\n",
    "    dtype_no_digital = [\n",
    "        ('type', np.uint8),\n",
    "        ('size', np.uint8),\n",
    "        ('crc16', np.uint16),\n",
    "        ('packetID', np.uint32),\n",
    "        ('us_start', np.uint32),\n",
    "        ('us_end', np.uint32),\n",
    "        ('analog', np.uint16, (8, )),\n",
    "        ('states', np.uint32, (8, ))]\n",
    "\n",
    "    # DigitalIn and DigitalOut\n",
    "    dtype_w_digital = dtype_no_digital + [('digital_in', np.uint16, (16, )), ('digital_out', np.uint8, (8, ))]\n",
    "\n",
    "    # Creating array with all the data (differenciation digital/non digital)\n",
    "    np_DataPacketType_noDigital = np.dtype(dtype_no_digital)\n",
    "    np_DataPacketType_withDigital = np.dtype(dtype_w_digital)\n",
    "    # Unpack the data as done on the teensy commander code\n",
    "    num_lines = count_lines(bp)\n",
    "    log_duration = num_lines/1000/60\n",
    "\n",
    "    # Decode and create new dataset\n",
    "    data = np.zeros(num_lines, dtype=np_DataPacketType_withDigital)\n",
    "    non_digital_names = list(np_DataPacketType_noDigital.names)\n",
    "\n",
    "    with open(bp, 'rb') as bf:\n",
    "        for nline, line in enumerate(tqdm(bf, total=num_lines)):\n",
    "            bl = cobs.decode(base64.b64decode(line[:-1])[:-1])\n",
    "            dp = unpack_data_packet(bl,DataPacketStruct,DataPacket)\n",
    "\n",
    "            data[non_digital_names][nline] = np.frombuffer(bl[:-4], dtype=np_DataPacketType_noDigital)\n",
    "            digital_arr = np.frombuffer(bl[-4:], dtype=np.uint8)\n",
    "            data[nline]['digital_in'] = np.hstack([np.unpackbits(digital_arr[1]), np.unpackbits(digital_arr[0])])\n",
    "            data[nline]['digital_out'] = np.unpackbits(np.array(digital_arr[2], dtype=np.uint8))\n",
    "        #Check for packetID jumps\n",
    "    jumps = np.unique(np.diff(data['packetID']))\n",
    "    decoded = {\"analog\":data['analog'], \"digitalIn\":data['digital_in'][:,::-1], \"digitalOut\":data['digital_out'][:,::-1], \"startTS\":data['us_start'], \"transmitTS\":data['us_end'], \"longVar\":data['states'], \"packetNums\":data['packetID']}\n",
    "\n",
    "    return decoded\n"
   ]
  },
  {
   "cell_type": "code",
   "execution_count": null,
   "id": "585cae03-8f4d-441c-a100-59428f5c4313",
   "metadata": {},
   "outputs": [],
   "source": [
    "def unpack_data_packet(dp,DataPacketStruct,DataPacket):\n",
    "    s = struct.unpack(DataPacketStruct, dp)\n",
    "    up = DataPacket(type=s[0], size=s[1], crc16=s[2], packetID=s[3], us_start=s[4], us_end=s[5],\n",
    "                    analog=s[6:14], states=s[14:22], digitalIn=s[22], digitalOut=s[23], padding=None)\n",
    "    return up\n",
    "\n",
    "def count_lines(fp):\n",
    "    # function to count the packet number\n",
    "    def _make_gen(reader):\n",
    "        b = reader(2**16)\n",
    "        while b:\n",
    "            yield b\n",
    "            b = reader(2**16)\n",
    "    with open(fp, 'rb') as f:\n",
    "        count = sum(buf.count(b'\\n') for buf in _make_gen(f.raw.read))\n",
    "    return count"
   ]
  },
  {
   "cell_type": "code",
   "execution_count": 4,
   "id": "18d2e7d7-2f91-475e-bd7b-1ac463b2c6a5",
   "metadata": {},
   "outputs": [],
   "source": [
    "import cobs\n",
    "import struct\n",
    "import base64\n",
    "from collections import namedtuple"
   ]
  },
  {
   "cell_type": "code",
   "execution_count": 5,
   "id": "e52016af-e7b5-43af-ae62-be3d001d0dfe",
   "metadata": {},
   "outputs": [],
   "source": [
    " DataPacketDesc = {'type': 'B',\n",
    "                      'size': 'B',\n",
    "                      'crc16': 'H',\n",
    "                      'packetID': 'I',\n",
    "                      'us_start': 'I',\n",
    "                      'us_end': 'I',\n",
    "                      'analog': '8H',\n",
    "                      'states': '8l',\n",
    "                      'digitalIn': 'H',\n",
    "                      'digitalOut': 'B',\n",
    "                      'padding': 'x'}\n",
    "\n",
    "DataPacket = namedtuple('DataPacket', DataPacketDesc.keys())\n",
    "DataPacketStruct = '<' + ''.join(DataPacketDesc.values())\n",
    "DataPacketSize = struct.calcsize(DataPacketStruct)"
   ]
  },
  {
   "cell_type": "code",
   "execution_count": 9,
   "id": "f06cf8c4-52ba-4a2f-a179-0a684ff32414",
   "metadata": {},
   "outputs": [
    {
     "data": {
      "text/plain": [
       "__main__.DataPacket['DataPacket']"
      ]
     },
     "execution_count": 9,
     "metadata": {},
     "output_type": "execute_result"
    }
   ],
   "source": [
    "DataPacket['DataPacket']"
   ]
  },
  {
   "cell_type": "code",
   "execution_count": 6,
   "id": "2dcaeb71-5fc0-4bbc-9174-9d21bf951650",
   "metadata": {},
   "outputs": [
    {
     "data": {
      "text/plain": [
       "'<BBHIII8H8lHBx'"
      ]
     },
     "execution_count": 6,
     "metadata": {},
     "output_type": "execute_result"
    }
   ],
   "source": [
    "DataPacketStruct"
   ]
  },
  {
   "cell_type": "code",
   "execution_count": 7,
   "id": "b3aa48a5-455b-41ff-98b1-226c32ec694f",
   "metadata": {},
   "outputs": [
    {
     "data": {
      "text/plain": [
       "68"
      ]
     },
     "execution_count": 7,
     "metadata": {},
     "output_type": "execute_result"
    }
   ],
   "source": [
    "DataPacketSize"
   ]
  },
  {
   "cell_type": "code",
   "execution_count": null,
   "id": "4288ec51-f3af-45f9-b968-72c72e8180a5",
   "metadata": {},
   "outputs": [],
   "source": []
  }
 ],
 "metadata": {
  "kernelspec": {
   "display_name": "Python 3 (ipykernel)",
   "language": "python",
   "name": "python3"
  },
  "language_info": {
   "codemirror_mode": {
    "name": "ipython",
    "version": 3
   },
   "file_extension": ".py",
   "mimetype": "text/x-python",
   "name": "python",
   "nbconvert_exporter": "python",
   "pygments_lexer": "ipython3",
   "version": "3.10.9"
  }
 },
 "nbformat": 4,
 "nbformat_minor": 5
}
