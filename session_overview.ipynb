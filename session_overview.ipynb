{
 "cells": [
  {
   "cell_type": "code",
   "execution_count": 23,
   "id": "54ca50d7-bbc1-4376-85f2-624b95c21642",
   "metadata": {},
   "outputs": [],
   "source": [
    "import caiman as cm\n",
    "import glob\n",
    "import gc\n",
    "import numpy as np\n",
    "import matplotlib.pyplot as plt\n",
    "from caiman.source_extraction.cnmf.cnmf import load_CNMF\n",
    "from pathlib import Path\n",
    "import pickle\n",
    "import mesmerize_core as ms\n",
    "\n",
    "import logreader.logreader as lr\n",
    "import pipeline.functions as fs\n",
    "\n"
   ]
  },
  {
   "cell_type": "markdown",
   "id": "5938b27b-5651-4107-a052-0a9c6ff781ef",
   "metadata": {},
   "source": [
    "# Session overview\n",
    "Use this notebook to load and inspect the raw tif video, preprocess it with a set of parameters and asses their effectiveness."
   ]
  },
  {
   "cell_type": "markdown",
   "id": "e01bff9b-9616-477e-b80f-710c460ee2e9",
   "metadata": {},
   "source": [
    "## select session"
   ]
  },
  {
   "cell_type": "code",
   "execution_count": 22,
   "id": "b73f145f-291d-463f-96ca-df74cbbe690d",
   "metadata": {},
   "outputs": [],
   "source": [
    "# chose session\n",
    "animal = '429420_toms'\n",
    "date = '20230210'\n",
    "animal_num = animal.split('_')[0]\n",
    "\n",
    "raw_data_path = Path(\"/ceph/imaging1/arie\")\n",
    "data_path = raw_data_path.joinpath(f'{animal}/{date}_{animal_num}')\n",
    "temp_output_path = Path('/scratch/dspalla/2p_data')\n"
   ]
  },
  {
   "cell_type": "markdown",
   "id": "9bc0cc24-2ebb-4d16-a942-94859c16fbe2",
   "metadata": {},
   "source": [
    "# Interactive visualization\n",
    "This requires to load the video to memory, and can be slow."
   ]
  },
  {
   "cell_type": "code",
   "execution_count": 17,
   "id": "d9a5019b-2dbe-4c8d-a38c-3f10153ec056",
   "metadata": {},
   "outputs": [
    {
     "ename": "KeyboardInterrupt",
     "evalue": "",
     "output_type": "error",
     "traceback": [
      "\u001b[0;31m---------------------------------------------------------------------------\u001b[0m",
      "\u001b[0;31mKeyboardInterrupt\u001b[0m                         Traceback (most recent call last)",
      "Cell \u001b[0;32mIn[17], line 1\u001b[0m\n\u001b[0;32m----> 1\u001b[0m movie \u001b[38;5;241m=\u001b[39m \u001b[43mcm\u001b[49m\u001b[38;5;241;43m.\u001b[39;49m\u001b[43mload\u001b[49m\u001b[43m(\u001b[49m\u001b[43mtif_file\u001b[49m\u001b[43m)\u001b[49m\n",
      "File \u001b[0;32m/scratch/dspalla/mambaforge/envs/mescore/lib/python3.10/site-packages/caiman/base/movies.py:1731\u001b[0m, in \u001b[0;36mload\u001b[0;34m(file_name, fr, start_time, meta_data, subindices, shape, var_name_hdf5, in_memory, is_behavior, bottom, top, left, right, channel, outtype, is3D)\u001b[0m\n\u001b[1;32m   1728\u001b[0m     logging\u001b[38;5;241m.\u001b[39merror(\u001b[38;5;124mf\u001b[39m\u001b[38;5;124m\"\u001b[39m\u001b[38;5;124mFile request:[\u001b[39m\u001b[38;5;132;01m{\u001b[39;00mfile_name\u001b[38;5;132;01m}\u001b[39;00m\u001b[38;5;124m] not found!\u001b[39m\u001b[38;5;124m\"\u001b[39m)\n\u001b[1;32m   1729\u001b[0m     \u001b[38;5;28;01mraise\u001b[39;00m \u001b[38;5;167;01mException\u001b[39;00m(\u001b[38;5;124mf\u001b[39m\u001b[38;5;124m'\u001b[39m\u001b[38;5;124mFile \u001b[39m\u001b[38;5;132;01m{\u001b[39;00mfile_name\u001b[38;5;132;01m}\u001b[39;00m\u001b[38;5;124m not found!\u001b[39m\u001b[38;5;124m'\u001b[39m)\n\u001b[0;32m-> 1731\u001b[0m \u001b[38;5;28;01mreturn\u001b[39;00m movie(\u001b[43minput_arr\u001b[49m\u001b[38;5;241;43m.\u001b[39;49m\u001b[43mastype\u001b[49m\u001b[43m(\u001b[49m\u001b[43mouttype\u001b[49m\u001b[43m)\u001b[49m,\n\u001b[1;32m   1732\u001b[0m              fr\u001b[38;5;241m=\u001b[39mfr,\n\u001b[1;32m   1733\u001b[0m              start_time\u001b[38;5;241m=\u001b[39mstart_time,\n\u001b[1;32m   1734\u001b[0m              file_name\u001b[38;5;241m=\u001b[39mos\u001b[38;5;241m.\u001b[39mpath\u001b[38;5;241m.\u001b[39msplit(file_name)[\u001b[38;5;241m-\u001b[39m\u001b[38;5;241m1\u001b[39m],\n\u001b[1;32m   1735\u001b[0m              meta_data\u001b[38;5;241m=\u001b[39mmeta_data)\n",
      "\u001b[0;31mKeyboardInterrupt\u001b[0m: "
     ]
    }
   ],
   "source": [
    "tif_file = glob.glob(str(data_path)+'/*.tif')[0]\n",
    "movie = cm.load(tif_file)"
   ]
  },
  {
   "cell_type": "code",
   "execution_count": null,
   "id": "69c0c24e-5ea6-45a5-a097-1d2218b7913e",
   "metadata": {},
   "outputs": [],
   "source": [
    "# make an image widget\n",
    "from fastplotlib import ImageWidget, Plot, GridPlot\n",
    "from ipywidgets import VBox, IntSlider, Layout\n",
    "\n",
    "movies = [movie]\n",
    "\n",
    "iw = ImageWidget(\n",
    "    movies, \n",
    "    window_funcs={\"t\": (np.mean, 100)},\n",
    "    vmin_vmax_sliders=True,\n",
    "    cmap=\"jet\"\n",
    ")\n",
    "\n",
    "iw.show()"
   ]
  },
  {
   "cell_type": "markdown",
   "id": "9463c988-3e04-4861-93e1-a5ac7fb79538",
   "metadata": {},
   "source": [
    "# Preprocess session"
   ]
  },
  {
   "cell_type": "code",
   "execution_count": 24,
   "id": "1d8be6df-db3e-4c56-914f-c1d7af8f13b2",
   "metadata": {},
   "outputs": [],
   "source": [
    "# PREPROCESSING STEPS\n",
    "preprocess_vr_data = False\n",
    "preprocess_2p_video = True"
   ]
  },
  {
   "cell_type": "code",
   "execution_count": 25,
   "id": "64435208-2b18-4b10-a5a0-cec27e66e82b",
   "metadata": {},
   "outputs": [],
   "source": [
    "# PARAMETERS\n",
    "compute_flags = {'correct_luminance':True,\n",
    "                 'refit_cnmf':True,\n",
    "                 'deconvolve' :True,\n",
    "                 'detrend_df_f': True,\n",
    "                 'n_processes': 5 #number of parallel processes.\n",
    "                }\n",
    "\n",
    "cropping_params = {'cropping_limits': [10,-10, 10,-10],\n",
    "                   'cropping_times':[0,-1]}\n",
    "\n",
    "mc_params = {# Caiman parameters\n",
    "             'max_shifts': [20, 20],  #maximum allowed rigid shifts (in pixels)\n",
    "             'num_frames_split':300,\n",
    "             'strides': [48, 48], # start a new patch for pw-rigid motion correction every x pixels\n",
    "             'overlaps': [24, 24], # overlap between pathes (size of patch strides+overlaps)\n",
    "             'max_deviation_rigid': 5,  # maximum allowed shifts from rigid template (in pixels)\n",
    "             'border_nan': 'copy',\n",
    "             'pw_rigid': True, # flag for performing non-rigid motion correction\n",
    "             'use_cuda': True,\n",
    "             'gSig_filt': None}\n",
    "\n",
    "# metrics to compute on motion corrected video\n",
    "metrics_params = ['mean_image','frame_average','corr_image']\n",
    "\n",
    "cnmf_params  = {'fr': 30, # framerate of the video, very important!\n",
    "                'p': 1,   # order of autoregressive process contstraint\n",
    "                'nb': 2,  # number of backround components       \n",
    "                'merge_thr': 0.85, # correlation th to merge to sources\n",
    "                'rf': 20,    # half-size of patch in pixels\n",
    "                'stride': 12, # \"overlap between patches in pixels, should be roughly neuron diameter\n",
    "                'K': 6,      # number of neurons per pathc\n",
    "                'gSig': [6, 6], # half-size of neuron in pixels (row,columns)\n",
    "                'ssub': 1, # spatial compression, if larger than one compresses\n",
    "                'tsub': 1, # temporal compression, if larger than one compresses\n",
    "                'method_init': 'greedy_roi',\n",
    "                'min_SNR': 3.0,  # min snr for good components, used in an OR rule with min_cnn_thr and rval_thr\n",
    "                'min_SNR_reject': 3.0, # min snr for good components, used in an AND rule with min_cnn_lowest and r_values_lowest\n",
    "                'rval_thr': 0.9, # spatial footprint consistency\n",
    "                'use_cnn': True,\n",
    "                'min_cnn_thr': 0.9,\n",
    "                'cnn_lowest': 0.9,\n",
    "                'decay_time': 0.4,\n",
    "                }\n",
    "df_f_params = {'quantileMin':8,\n",
    "               'frames_window':250       \n",
    "                }\n",
    "\n",
    "parameters = {'compute_flags': compute_flags,\n",
    "              'cropping_params':cropping_params,\n",
    "              'mc_params': mc_params,\n",
    "              'metrics_params':metrics_params,\n",
    "              'cnmf_params': cnmf_params,\n",
    "              'df_f_params':df_f_params\n",
    "                }"
   ]
  },
  {
   "cell_type": "code",
   "execution_count": null,
   "id": "ea776eb7-8258-4399-a631-1a885a0cdb3e",
   "metadata": {},
   "outputs": [
    {
     "name": "stdout",
     "output_type": "stream",
     "text": [
      "log file: /ceph/imaging1/arie/429420_toms/20230210_429420/20230210-132623_526.b64\n",
      "tif file: /ceph/imaging1/arie/429420_toms/20230210_429420/20230210_429420_00001.tif\n",
      "Cropping movie ...\n",
      "Correcting luminance fluctuations\n"
     ]
    }
   ],
   "source": [
    "session_path = raw_data_path.joinpath(f'{animal}/{date}_{animal_num}')\n",
    "        \n",
    "tif_file = glob.glob(str(session_path)+'/*.tif')[0]\n",
    "log_file = glob.glob(str(session_path)+'/*.b64')[0]\n",
    "        \n",
    "        \n",
    "print(f'log file: {log_file}')\n",
    "print(f'tif file: {tif_file}')\n",
    "\n",
    "#make temp dir\n",
    "temp_path = temp_output_path.joinpath(f'{animal}/{date}')\n",
    "Path(temp_path).mkdir(parents=True, exist_ok=True)\n",
    "\n",
    "\n",
    "#Decode log and process behaviour\n",
    "if preprocess_vr_data:\n",
    "    try:\n",
    "        vr_data = lr.preprocess_vr_data(tif_file = tif_file, log_file=log_file)\n",
    "        lr.save_processed_vr_data(temp_path,vr_data)\n",
    "    except:\n",
    "        print(f'Error in session {animal}_{date}, skipping ...')\n",
    "\n",
    "#Run caiman pipeline \n",
    "if preprocess_2p_video:\n",
    "    fs.preprocess_video(input_video=tif_file,\n",
    "                    output_folder=temp_path,\n",
    "                    parameters=parameters,\n",
    "                    temp_folder=temp_path)\n",
    "        \n",
    "        \n",
    "        "
   ]
  },
  {
   "cell_type": "markdown",
   "id": "683bec4d-01a0-4a02-a2fb-f1643f3c864f",
   "metadata": {},
   "source": [
    "# Visualize preprocessed session"
   ]
  },
  {
   "cell_type": "code",
   "execution_count": null,
   "id": "bb4f27a3-f1fe-4765-8122-6a76e78371d4",
   "metadata": {},
   "outputs": [],
   "source": [
    "## Summary images\n",
    "## Interactive video\n",
    "## extracted components\n",
    "## component quality distribution"
   ]
  },
  {
   "cell_type": "markdown",
   "id": "a61f92e5-9710-4165-937a-21d297553e91",
   "metadata": {},
   "source": [
    "# Save session parameters"
   ]
  },
  {
   "cell_type": "markdown",
   "id": "7f890cec-8338-4a1c-a3f0-88af7a294531",
   "metadata": {},
   "source": [
    "# clean temp directory"
   ]
  },
  {
   "cell_type": "markdown",
   "id": "a7c1ab10-020e-4e18-8231-5bbdbccc00b3",
   "metadata": {},
   "source": [
    "# idea\n",
    "database with sessions parameters and info.\n",
    "Batch processer takes parameters from that, otherwise resorts to default"
   ]
  },
  {
   "cell_type": "code",
   "execution_count": null,
   "id": "a8444fd5-52ad-447e-8a76-78094bc3576a",
   "metadata": {},
   "outputs": [],
   "source": []
  }
 ],
 "metadata": {
  "kernelspec": {
   "display_name": "Python 3 (ipykernel)",
   "language": "python",
   "name": "python3"
  },
  "language_info": {
   "codemirror_mode": {
    "name": "ipython",
    "version": 3
   },
   "file_extension": ".py",
   "mimetype": "text/x-python",
   "name": "python",
   "nbconvert_exporter": "python",
   "pygments_lexer": "ipython3",
   "version": "3.10.9"
  }
 },
 "nbformat": 4,
 "nbformat_minor": 5
}
