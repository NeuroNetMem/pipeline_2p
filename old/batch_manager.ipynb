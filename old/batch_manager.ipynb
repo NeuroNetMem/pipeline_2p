{
 "cells": [
  {
   "cell_type": "markdown",
   "id": "5115aa38-bb86-4c07-bdd0-fef3297f95f8",
   "metadata": {},
   "source": [
    "# Batch manager"
   ]
  },
  {
   "cell_type": "code",
   "execution_count": 1,
   "id": "175ae92b-73fa-44d8-ab75-fb3399f68e12",
   "metadata": {
    "pycharm": {
     "name": "#%%\n"
    },
    "tags": []
   },
   "outputs": [
    {
     "name": "stderr",
     "output_type": "stream",
     "text": [
      "2023-02-13 10:32:31.467719: I tensorflow/core/platform/cpu_feature_guard.cc:193] This TensorFlow binary is optimized with oneAPI Deep Neural Network Library (oneDNN) to use the following CPU instructions in performance-critical operations:  SSE4.1 SSE4.2 AVX AVX2 FMA\n",
      "To enable them in other operations, rebuild TensorFlow with the appropriate compiler flags.\n"
     ]
    }
   ],
   "source": [
    "from mesmerize_core import *\n",
    "import numpy as np\n",
    "from copy import deepcopy\n",
    "import pandas as pd\n",
    "from pathlib import Path\n",
    "import os"
   ]
  },
  {
   "cell_type": "markdown",
   "id": "c16f235f-703b-4004-9cde-46794cafcf4a",
   "metadata": {
    "pycharm": {
     "name": "#%% md\n"
    }
   },
   "source": [
    "# Paths and infos"
   ]
  },
  {
   "cell_type": "code",
   "execution_count": 2,
   "id": "233fa7a9-c623-48bd-aa2a-ef41a7204874",
   "metadata": {
    "pycharm": {
     "name": "#%%\n"
    }
   },
   "outputs": [],
   "source": [
    "#set_parent_raw_data_path(\"/Users/davide/caiman_data/\")\n",
    "set_parent_raw_data_path('/ceph/imaging1/arie')\n",
    "batch_path = Path('/ceph/imaging1/arie/prepocessing/429420_toms/batch_toms.pickle')\n",
    "\n",
    "#dict with animal name and number\n",
    "animal_dict = {'toms': 429420,'crocs':429419}\n"
   ]
  },
  {
   "cell_type": "markdown",
   "id": "c78dbc4e-fda3-48b5-a736-3777ab727648",
   "metadata": {},
   "source": [
    "# Load batch"
   ]
  },
  {
   "cell_type": "code",
   "execution_count": 3,
   "id": "ee720c3f-6eab-4552-bee4-01357d38e3cd",
   "metadata": {
    "pycharm": {
     "name": "#%%\n"
    }
   },
   "outputs": [
    {
     "data": {
      "text/html": [
       "<div>\n",
       "<style scoped>\n",
       "    .dataframe tbody tr th:only-of-type {\n",
       "        vertical-align: middle;\n",
       "    }\n",
       "\n",
       "    .dataframe tbody tr th {\n",
       "        vertical-align: top;\n",
       "    }\n",
       "\n",
       "    .dataframe thead th {\n",
       "        text-align: right;\n",
       "    }\n",
       "</style>\n",
       "<table border=\"1\" class=\"dataframe\">\n",
       "  <thead>\n",
       "    <tr style=\"text-align: right;\">\n",
       "      <th></th>\n",
       "      <th>algo</th>\n",
       "      <th>item_name</th>\n",
       "      <th>input_movie_path</th>\n",
       "      <th>params</th>\n",
       "      <th>outputs</th>\n",
       "      <th>added_time</th>\n",
       "      <th>ran_time</th>\n",
       "      <th>algo_duration</th>\n",
       "      <th>comments</th>\n",
       "      <th>uuid</th>\n",
       "    </tr>\n",
       "  </thead>\n",
       "  <tbody>\n",
       "    <tr>\n",
       "      <th>0</th>\n",
       "      <td>mcorr</td>\n",
       "      <td>toms_429420_20230202</td>\n",
       "      <td>429420_toms/20230202_429420/20230202_429420_00...</td>\n",
       "      <td>{'main': {'max_shifts': (48, 48), 'strides': (...</td>\n",
       "      <td>{'success': False, 'traceback': 'multiprocessi...</td>\n",
       "      <td>2023-02-11T17:00:34</td>\n",
       "      <td>2023-02-11T17:37:51</td>\n",
       "      <td>2215.52 sec</td>\n",
       "      <td>None</td>\n",
       "      <td>aad4e4e4-7ea9-4ee8-b41d-031ff9f7be4c</td>\n",
       "    </tr>\n",
       "  </tbody>\n",
       "</table>\n",
       "</div>"
      ],
      "text/plain": [
       "    algo             item_name  \\\n",
       "0  mcorr  toms_429420_20230202   \n",
       "\n",
       "                                    input_movie_path  \\\n",
       "0  429420_toms/20230202_429420/20230202_429420_00...   \n",
       "\n",
       "                                              params  \\\n",
       "0  {'main': {'max_shifts': (48, 48), 'strides': (...   \n",
       "\n",
       "                                             outputs           added_time  \\\n",
       "0  {'success': False, 'traceback': 'multiprocessi...  2023-02-11T17:00:34   \n",
       "\n",
       "              ran_time algo_duration comments  \\\n",
       "0  2023-02-11T17:37:51   2215.52 sec     None   \n",
       "\n",
       "                                   uuid  \n",
       "0  aad4e4e4-7ea9-4ee8-b41d-031ff9f7be4c  "
      ]
     },
     "execution_count": 3,
     "metadata": {},
     "output_type": "execute_result"
    }
   ],
   "source": [
    "df = load_batch(batch_path)\n",
    "df.head()"
   ]
  },
  {
   "cell_type": "markdown",
   "id": "a87d4f17-600e-4820-ae3f-384157a56e5e",
   "metadata": {
    "pycharm": {
     "name": "#%% md\n"
    }
   },
   "source": [
    "# Add motion correction parameters\n",
    "Add items to the batch by inputting the video path, the item name (= session name) and the parameter set for the motion correction. \n",
    "Run this cell multiple times to add multple rows with different items or parameters.\n",
    "\n",
    "Use:\n",
    "\n",
    "```\n",
    "item_id = df.iloc[i].uuid\n",
    "df.caiman.remove_item(item_id)\n",
    "```\n",
    "\n",
    "to remove the item at row i from the batch df.\n",
    "\n"
   ]
  },
  {
   "cell_type": "code",
   "execution_count": 10,
   "id": "557df3bc-80bf-42b7-9c68-776cca491677",
   "metadata": {},
   "outputs": [],
   "source": [
    "# put movie path and session name (DATE_ANIMAL)\n",
    "\n",
    "date = 20230202\n",
    "animal_name = 'toms'\n",
    "animal_num = animal_dict[animal_name]\n",
    "\n",
    "item_name = f'{animal_name}_{animal_num}_{date}'\n",
    "input_movie_path = '429420_toms/20230202_429420/20230202_429420_00001.tif'\n"
   ]
  },
  {
   "cell_type": "code",
   "execution_count": 11,
   "id": "28396502-0758-49cb-a135-38430a2aa085",
   "metadata": {
    "pycharm": {
     "name": "#%%\n"
    }
   },
   "outputs": [],
   "source": [
    "# define one parameter set\n",
    "mcorr_params =\\\n",
    "{\n",
    "  'main': # this key is necessary for specifying that these are the \"main\" params for the algorithm\n",
    "    {\n",
    "        'max_shifts': [48, 48],\n",
    "        'strides': [48, 48],\n",
    "        'overlaps': [24, 24],\n",
    "        'max_deviation_rigid': 10,\n",
    "        'border_nan': 'copy',\n",
    "        'pw_rigid': True,\n",
    "        'gSig_filt': None\n",
    "    },\n",
    "}"
   ]
  },
  {
   "cell_type": "code",
   "execution_count": 133,
   "id": "0d25ff8d-a4b5-4377-afa7-ea60c7bfde72",
   "metadata": {
    "pycharm": {
     "name": "#%%\n"
    }
   },
   "outputs": [],
   "source": [
    "# add an item to the batch\n",
    "df.caiman.add_item(\n",
    "    algo='mcorr',\n",
    "    input_movie_path=input_movie_path,\n",
    "    params=mcorr_params,\n",
    "    item_name=item_name,  # filename of the movie, but can be anything\n",
    ")"
   ]
  },
  {
   "cell_type": "code",
   "execution_count": 134,
   "id": "06c7c66f-8be3-4602-bd02-c0877ae9e8be",
   "metadata": {},
   "outputs": [
    {
     "data": {
      "text/html": [
       "<div>\n",
       "<style scoped>\n",
       "    .dataframe tbody tr th:only-of-type {\n",
       "        vertical-align: middle;\n",
       "    }\n",
       "\n",
       "    .dataframe tbody tr th {\n",
       "        vertical-align: top;\n",
       "    }\n",
       "\n",
       "    .dataframe thead th {\n",
       "        text-align: right;\n",
       "    }\n",
       "</style>\n",
       "<table border=\"1\" class=\"dataframe\">\n",
       "  <thead>\n",
       "    <tr style=\"text-align: right;\">\n",
       "      <th></th>\n",
       "      <th>algo</th>\n",
       "      <th>item_name</th>\n",
       "      <th>input_movie_path</th>\n",
       "      <th>params</th>\n",
       "      <th>outputs</th>\n",
       "      <th>added_time</th>\n",
       "      <th>ran_time</th>\n",
       "      <th>algo_duration</th>\n",
       "      <th>comments</th>\n",
       "      <th>uuid</th>\n",
       "    </tr>\n",
       "  </thead>\n",
       "  <tbody>\n",
       "    <tr>\n",
       "      <th>0</th>\n",
       "      <td>mcorr</td>\n",
       "      <td>toms_429420_20230202</td>\n",
       "      <td>429420_toms/20230202_429420/20230202_429420_00...</td>\n",
       "      <td>{'main': {'max_shifts': (48, 48), 'strides': (...</td>\n",
       "      <td>None</td>\n",
       "      <td>2023-02-11T17:00:34</td>\n",
       "      <td>None</td>\n",
       "      <td>None</td>\n",
       "      <td>None</td>\n",
       "      <td>aad4e4e4-7ea9-4ee8-b41d-031ff9f7be4c</td>\n",
       "    </tr>\n",
       "  </tbody>\n",
       "</table>\n",
       "</div>"
      ],
      "text/plain": [
       "    algo             item_name  \\\n",
       "0  mcorr  toms_429420_20230202   \n",
       "\n",
       "                                    input_movie_path  \\\n",
       "0  429420_toms/20230202_429420/20230202_429420_00...   \n",
       "\n",
       "                                              params outputs  \\\n",
       "0  {'main': {'max_shifts': (48, 48), 'strides': (...    None   \n",
       "\n",
       "            added_time ran_time algo_duration comments  \\\n",
       "0  2023-02-11T17:00:34     None          None     None   \n",
       "\n",
       "                                   uuid  \n",
       "0  aad4e4e4-7ea9-4ee8-b41d-031ff9f7be4c  "
      ]
     },
     "execution_count": 134,
     "metadata": {},
     "output_type": "execute_result"
    }
   ],
   "source": [
    "#visualize added items\n",
    "df.tail(1)"
   ]
  },
  {
   "cell_type": "markdown",
   "id": "affecba1-a33c-4f47-8876-92e54da50c19",
   "metadata": {},
   "source": [
    "# Run given subset"
   ]
  },
  {
   "cell_type": "code",
   "execution_count": 12,
   "id": "8320d2cb-dea3-4cbc-ac0b-6b7902220dae",
   "metadata": {},
   "outputs": [
    {
     "data": {
      "text/html": [
       "<div>\n",
       "<style scoped>\n",
       "    .dataframe tbody tr th:only-of-type {\n",
       "        vertical-align: middle;\n",
       "    }\n",
       "\n",
       "    .dataframe tbody tr th {\n",
       "        vertical-align: top;\n",
       "    }\n",
       "\n",
       "    .dataframe thead th {\n",
       "        text-align: right;\n",
       "    }\n",
       "</style>\n",
       "<table border=\"1\" class=\"dataframe\">\n",
       "  <thead>\n",
       "    <tr style=\"text-align: right;\">\n",
       "      <th></th>\n",
       "      <th>algo</th>\n",
       "      <th>item_name</th>\n",
       "      <th>input_movie_path</th>\n",
       "      <th>params</th>\n",
       "      <th>outputs</th>\n",
       "      <th>added_time</th>\n",
       "      <th>ran_time</th>\n",
       "      <th>algo_duration</th>\n",
       "      <th>comments</th>\n",
       "      <th>uuid</th>\n",
       "    </tr>\n",
       "  </thead>\n",
       "  <tbody>\n",
       "    <tr>\n",
       "      <th>0</th>\n",
       "      <td>mcorr</td>\n",
       "      <td>toms_429420_20230202</td>\n",
       "      <td>429420_toms/20230202_429420/20230202_429420_00...</td>\n",
       "      <td>{'main': {'max_shifts': (48, 48), 'strides': (...</td>\n",
       "      <td>{'success': False, 'traceback': 'multiprocessi...</td>\n",
       "      <td>2023-02-11T17:00:34</td>\n",
       "      <td>2023-02-11T17:37:51</td>\n",
       "      <td>2215.52 sec</td>\n",
       "      <td>None</td>\n",
       "      <td>aad4e4e4-7ea9-4ee8-b41d-031ff9f7be4c</td>\n",
       "    </tr>\n",
       "  </tbody>\n",
       "</table>\n",
       "</div>"
      ],
      "text/plain": [
       "    algo             item_name  \\\n",
       "0  mcorr  toms_429420_20230202   \n",
       "\n",
       "                                    input_movie_path  \\\n",
       "0  429420_toms/20230202_429420/20230202_429420_00...   \n",
       "\n",
       "                                              params  \\\n",
       "0  {'main': {'max_shifts': (48, 48), 'strides': (...   \n",
       "\n",
       "                                             outputs           added_time  \\\n",
       "0  {'success': False, 'traceback': 'multiprocessi...  2023-02-11T17:00:34   \n",
       "\n",
       "              ran_time algo_duration comments  \\\n",
       "0  2023-02-11T17:37:51   2215.52 sec     None   \n",
       "\n",
       "                                   uuid  \n",
       "0  aad4e4e4-7ea9-4ee8-b41d-031ff9f7be4c  "
      ]
     },
     "execution_count": 12,
     "metadata": {},
     "output_type": "execute_result"
    }
   ],
   "source": [
    "subset = df[(df['algo']=='mcorr') & (df['item_name']==item_name)]\n",
    "\n",
    "subset"
   ]
  },
  {
   "cell_type": "code",
   "execution_count": 13,
   "id": "0a365cd3-3ef9-40bc-bf7e-fc866991f275",
   "metadata": {},
   "outputs": [],
   "source": [
    "# number of cpu processes:\n",
    "\n",
    "os.environ[\"MESMERIZE_N_PROCESSES\"] = '10'"
   ]
  },
  {
   "cell_type": "code",
   "execution_count": 14,
   "id": "f79ed968-e569-40f2-b618-684dbf6cea7e",
   "metadata": {
    "tags": []
   },
   "outputs": [
    {
     "name": "stdout",
     "output_type": "stream",
     "text": [
      "RUNNING mcorr ON ITEM: toms_429420_20230202\n"
     ]
    },
    {
     "name": "stderr",
     "output_type": "stream",
     "text": [
      "2023-02-13 10:33:46.354254: I tensorflow/core/platform/cpu_feature_guard.cc:193] This TensorFlow binary is optimized with oneAPI Deep Neural Network Library (oneDNN) to use the following CPU instructions in performance-critical operations:  SSE4.1 SSE4.2 AVX AVX2 FMA\n",
      "To enable them in other operations, rebuild TensorFlow with the appropriate compiler flags.\n"
     ]
    },
    {
     "name": "stdout",
     "output_type": "stream",
     "text": [
      "starting mc\n"
     ]
    },
    {
     "name": "stderr",
     "output_type": "stream",
     "text": [
      "WARNING:root:Movie average is negative. Removing 1st percentile.\n",
      "WARNING:root:Movie average is negative. Removing 1st percentile.\n",
      "WARNING:root:Movie average is negative. Removing 1st percentile.\n"
     ]
    },
    {
     "name": "stdout",
     "output_type": "stream",
     "text": [
      "mc failed, stored traceback in output\n",
      "DONE\n"
     ]
    }
   ],
   "source": [
    "# run all items in subset \n",
    "for i in range(len(subset)):\n",
    "    row = subset.iloc[i]\n",
    "    print(f\"RUNNING {row.algo} ON ITEM: {row.item_name}\")\n",
    "    process = row.caiman.run()\n",
    "\n",
    "print('DONE')"
   ]
  },
  {
   "cell_type": "code",
   "execution_count": 15,
   "id": "e2113e6c-8a10-4a2f-a6b4-d0990ab608d0",
   "metadata": {},
   "outputs": [
    {
     "name": "stdout",
     "output_type": "stream",
     "text": [
      "RUNNING OUTCOMES:\n",
      "toms_429420_20230202:False\n"
     ]
    }
   ],
   "source": [
    "df = df.caiman.reload_from_disk()\n",
    "print('RUNNING OUTCOMES:')\n",
    "for i in range(len(df)):\n",
    "    row = df.iloc[i]\n",
    "    print(f'{row[\"item_name\"]}:{row[\"outputs\"][\"success\"]}')\n"
   ]
  },
  {
   "cell_type": "code",
   "execution_count": 17,
   "id": "3aba44cb-e283-4a53-846a-1b5f4f73148c",
   "metadata": {},
   "outputs": [
    {
     "data": {
      "text/plain": [
       "'Traceback (most recent call last):\\n  File \"/memdyn/davide/mambaforge/envs/mescore/lib/python3.10/site-packages/numpy/core/memmap.py\", line 255, in __new__\\n    fid.flush()\\nOSError: [Errno 122] Disk quota exceeded\\n\\nDuring handling of the above exception, another exception occurred:\\n\\nTraceback (most recent call last):\\n  File \"/memdyn/davide/mambaforge/envs/mescore/lib/python3.10/site-packages/mesmerize_core/algorithms/mcorr.py\", line 67, in run_algo\\n    mc.motion_correct(save_movie=True)\\n  File \"/memdyn/davide/mambaforge/envs/mescore/lib/python3.10/site-packages/caiman/motion_correction.py\", line 259, in motion_correct\\n    self.motion_correct_pwrigid(template=template, save_movie=save_movie)\\n  File \"/memdyn/davide/mambaforge/envs/mescore/lib/python3.10/site-packages/caiman/motion_correction.py\", line 373, in motion_correct_pwrigid\\n    _x_shifts_els, _y_shifts_els, _z_shifts_els, _coord_shifts_els = motion_correct_batch_pwrigid(\\n  File \"/memdyn/davide/mambaforge/envs/mescore/lib/python3.10/site-packages/caiman/motion_correction.py\", line 3023, in motion_correct_batch_pwrigid\\n    fname_tot_els, res_el = motion_correction_piecewise(fname, splits, strides, overlaps,\\n  File \"/memdyn/davide/mambaforge/envs/mescore/lib/python3.10/site-packages/caiman/motion_correction.py\", line 3195, in motion_correction_piecewise\\n    np.memmap(fname_tot, mode=\\'w+\\', dtype=np.float32,\\n  File \"/memdyn/davide/mambaforge/envs/mescore/lib/python3.10/site-packages/numpy/core/memmap.py\", line 230, in __new__\\n    with f_ctx as fid:\\nOSError: [Errno 122] Disk quota exceeded\\n'"
      ]
     },
     "execution_count": 17,
     "metadata": {},
     "output_type": "execute_result"
    }
   ],
   "source": [
    "df.iloc[0]['outputs']['traceback']"
   ]
  },
  {
   "cell_type": "markdown",
   "id": "f88fd23f-1ef2-4dfe-b2b5-586d71bee381",
   "metadata": {},
   "source": [
    "# Parameter selection\n",
    " Use the `visualize.ipynb` to plot, look at and evaluate the best set of parameters.\n",
    " Chosen parameters will be flagged with `keep=True`. The next line deletes all non chosen parameters, before proceeding to source separation\n"
   ]
  },
  {
   "cell_type": "markdown",
   "id": "31e096bf-80c6-4d89-85e6-38e9949380ac",
   "metadata": {},
   "source": [
    "# Source separation"
   ]
  },
  {
   "cell_type": "code",
   "execution_count": 139,
   "id": "208cc255-770c-42cc-97aa-181053b30d86",
   "metadata": {},
   "outputs": [
    {
     "data": {
      "text/html": [
       "<div>\n",
       "<style scoped>\n",
       "    .dataframe tbody tr th:only-of-type {\n",
       "        vertical-align: middle;\n",
       "    }\n",
       "\n",
       "    .dataframe tbody tr th {\n",
       "        vertical-align: top;\n",
       "    }\n",
       "\n",
       "    .dataframe thead th {\n",
       "        text-align: right;\n",
       "    }\n",
       "</style>\n",
       "<table border=\"1\" class=\"dataframe\">\n",
       "  <thead>\n",
       "    <tr style=\"text-align: right;\">\n",
       "      <th></th>\n",
       "      <th>algo</th>\n",
       "      <th>item_name</th>\n",
       "      <th>input_movie_path</th>\n",
       "      <th>params</th>\n",
       "      <th>outputs</th>\n",
       "      <th>added_time</th>\n",
       "      <th>ran_time</th>\n",
       "      <th>algo_duration</th>\n",
       "      <th>comments</th>\n",
       "      <th>uuid</th>\n",
       "    </tr>\n",
       "  </thead>\n",
       "  <tbody>\n",
       "    <tr>\n",
       "      <th>0</th>\n",
       "      <td>mcorr</td>\n",
       "      <td>toms_429420_20230202</td>\n",
       "      <td>429420_toms/20230202_429420/20230202_429420_00...</td>\n",
       "      <td>{'main': {'max_shifts': (48, 48), 'strides': (...</td>\n",
       "      <td>{'success': False, 'traceback': 'multiprocessi...</td>\n",
       "      <td>2023-02-11T17:00:34</td>\n",
       "      <td>2023-02-11T17:37:51</td>\n",
       "      <td>2215.52 sec</td>\n",
       "      <td>None</td>\n",
       "      <td>aad4e4e4-7ea9-4ee8-b41d-031ff9f7be4c</td>\n",
       "    </tr>\n",
       "  </tbody>\n",
       "</table>\n",
       "</div>"
      ],
      "text/plain": [
       "    algo             item_name  \\\n",
       "0  mcorr  toms_429420_20230202   \n",
       "\n",
       "                                    input_movie_path  \\\n",
       "0  429420_toms/20230202_429420/20230202_429420_00...   \n",
       "\n",
       "                                              params  \\\n",
       "0  {'main': {'max_shifts': (48, 48), 'strides': (...   \n",
       "\n",
       "                                             outputs           added_time  \\\n",
       "0  {'success': False, 'traceback': 'multiprocessi...  2023-02-11T17:00:34   \n",
       "\n",
       "              ran_time algo_duration comments  \\\n",
       "0  2023-02-11T17:37:51   2215.52 sec     None   \n",
       "\n",
       "                                   uuid  \n",
       "0  aad4e4e4-7ea9-4ee8-b41d-031ff9f7be4c  "
      ]
     },
     "execution_count": 139,
     "metadata": {},
     "output_type": "execute_result"
    }
   ],
   "source": [
    "df = df.caiman.reload_from_disk()\n",
    "df"
   ]
  },
  {
   "cell_type": "code",
   "execution_count": 4,
   "id": "7331010a-3a47-469d-b2a1-debcf9d31ec4",
   "metadata": {},
   "outputs": [],
   "source": [
    "input_row = 0"
   ]
  },
  {
   "cell_type": "code",
   "execution_count": 5,
   "id": "b3377cf4-c61b-4658-b7ec-8a2a8f960d35",
   "metadata": {},
   "outputs": [],
   "source": [
    "# some params for CNMF\n",
    "params_cnmf =\\\n",
    "{\n",
    "    'main': # indicates that these are the \"main\" params for the CNMF algo\n",
    "        {\n",
    "            'fr': 30, # framerate of the video, very important!\n",
    "            'p': 1,   # order of autoregressive process contstraint\n",
    "            'nb': 2,  # number of backround components       \n",
    "            'merge_thr': 0.85, # correlation th to merge to sources\n",
    "            'rf': 15,    # half-size of patch in pixels\n",
    "            'stride': 6, # \"overlap between patches in pixels, should be roughly neuron diameter\n",
    "            'K': 6,      # number of neurons per pathc\n",
    "            'gSig': [6, 6], # half-size of neuron in pixels (row,columns)\n",
    "            'ssub': 1, # spatial compression, if larger than one compresses\n",
    "            'tsub': 1, # temporal compression, if larger than one compresses\n",
    "            'method_init': 'greedy_roi',\n",
    "            'min_SNR': 2.0,  # min snr for good components\n",
    "            'rval_thr': 0.7, # spatial footprint consistency\n",
    "            'use_cnn': False,\n",
    "            'min_cnn_thr': 0.8,\n",
    "            'cnn_lowest': 0.1,\n",
    "            'decay_time': 0.4,\n",
    "        },\n",
    "    'refit': True, # If `True`, run a second iteration of CNMF\n",
    "}"
   ]
  },
  {
   "cell_type": "code",
   "execution_count": 6,
   "id": "044e3428-94a1-4f52-b7fe-ce8fbdad101d",
   "metadata": {},
   "outputs": [
    {
     "ename": "BatchItemUnsuccessfulError",
     "evalue": "Batch item was unsuccessful, traceback from subprocess:\nmultiprocessing.pool.RemoteTraceback: \n\"\"\"\nTraceback (most recent call last):\n  File \"/memdyn/davide/mambaforge/envs/mescore/lib/python3.10/multiprocessing/pool.py\", line 125, in worker\n    result = (True, func(*args, **kwds))\n  File \"/memdyn/davide/mambaforge/envs/mescore/lib/python3.10/multiprocessing/pool.py\", line 48, in mapstar\n    return list(map(*args))\n  File \"/memdyn/davide/mambaforge/envs/mescore/lib/python3.10/site-packages/caiman/motion_correction.py\", line 3133, in tile_and_correct_wrapper\n    outv[:, idxs] = np.reshape(\n  File \"<__array_function__ internals>\", line 200, in reshape\n  File \"/memdyn/davide/mambaforge/envs/mescore/lib/python3.10/site-packages/numpy/core/fromnumeric.py\", line 298, in reshape\n    return _wrapfunc(a, 'reshape', newshape, order=order)\n  File \"/memdyn/davide/mambaforge/envs/mescore/lib/python3.10/site-packages/numpy/core/fromnumeric.py\", line 57, in _wrapfunc\n    return bound(*args, **kwds)\nnumpy.core._exceptions._ArrayMemoryError: Unable to allocate 6.56 GiB for an array with shape (6717, 512, 512) and data type float32\n\"\"\"\n\nThe above exception was the direct cause of the following exception:\n\nTraceback (most recent call last):\n  File \"/memdyn/davide/mambaforge/envs/mescore/lib/python3.10/site-packages/mesmerize_core/algorithms/mcorr.py\", line 67, in run_algo\n    mc.motion_correct(save_movie=True)\n  File \"/memdyn/davide/mambaforge/envs/mescore/lib/python3.10/site-packages/caiman/motion_correction.py\", line 259, in motion_correct\n    self.motion_correct_pwrigid(template=template, save_movie=save_movie)\n  File \"/memdyn/davide/mambaforge/envs/mescore/lib/python3.10/site-packages/caiman/motion_correction.py\", line 373, in motion_correct_pwrigid\n    _x_shifts_els, _y_shifts_els, _z_shifts_els, _coord_shifts_els = motion_correct_batch_pwrigid(\n  File \"/memdyn/davide/mambaforge/envs/mescore/lib/python3.10/site-packages/caiman/motion_correction.py\", line 3023, in motion_correct_batch_pwrigid\n    fname_tot_els, res_el = motion_correction_piecewise(fname, splits, strides, overlaps,\n  File \"/memdyn/davide/mambaforge/envs/mescore/lib/python3.10/site-packages/caiman/motion_correction.py\", line 3215, in motion_correction_piecewise\n    res = dview.map_async(tile_and_correct_wrapper, pars).get(4294967)\n  File \"/memdyn/davide/mambaforge/envs/mescore/lib/python3.10/multiprocessing/pool.py\", line 774, in get\n    raise self._value\nnumpy.core._exceptions._ArrayMemoryError: Unable to allocate 6.56 GiB for an array with shape (6717, 512, 512) and data type float32\n",
     "output_type": "error",
     "traceback": [
      "\u001b[0;31m---------------------------------------------------------------------------\u001b[0m",
      "\u001b[0;31mBatchItemUnsuccessfulError\u001b[0m                Traceback (most recent call last)",
      "Cell \u001b[0;32mIn[6], line 2\u001b[0m\n\u001b[1;32m      1\u001b[0m \u001b[38;5;66;03m# add a batch item\u001b[39;00m\n\u001b[0;32m----> 2\u001b[0m \u001b[43mdf\u001b[49m\u001b[38;5;241;43m.\u001b[39;49m\u001b[43mcaiman\u001b[49m\u001b[38;5;241;43m.\u001b[39;49m\u001b[43madd_item\u001b[49m\u001b[43m(\u001b[49m\n\u001b[1;32m      3\u001b[0m \u001b[43m    \u001b[49m\u001b[43malgo\u001b[49m\u001b[38;5;241;43m=\u001b[39;49m\u001b[38;5;124;43m'\u001b[39;49m\u001b[38;5;124;43mcnmf\u001b[39;49m\u001b[38;5;124;43m'\u001b[39;49m\u001b[43m,\u001b[49m\u001b[43m \u001b[49m\u001b[38;5;66;43;03m# algo is cnmf\u001b[39;49;00m\n\u001b[1;32m      4\u001b[0m \u001b[43m    \u001b[49m\u001b[43minput_movie_path\u001b[49m\u001b[38;5;241;43m=\u001b[39;49m\u001b[43mdf\u001b[49m\u001b[38;5;241;43m.\u001b[39;49m\u001b[43miloc\u001b[49m\u001b[43m[\u001b[49m\u001b[43minput_row\u001b[49m\u001b[43m]\u001b[49m\u001b[43m,\u001b[49m\u001b[43m  \u001b[49m\u001b[38;5;66;43;03m# use mcorr output from a completed batch item\u001b[39;49;00m\n\u001b[1;32m      5\u001b[0m \u001b[43m    \u001b[49m\u001b[43mparams\u001b[49m\u001b[38;5;241;43m=\u001b[39;49m\u001b[43mparams_cnmf\u001b[49m\u001b[43m,\u001b[49m\n\u001b[1;32m      6\u001b[0m \u001b[43m    \u001b[49m\u001b[43mitem_name\u001b[49m\u001b[38;5;241;43m=\u001b[39;49m\u001b[43mdf\u001b[49m\u001b[38;5;241;43m.\u001b[39;49m\u001b[43miloc\u001b[49m\u001b[43m[\u001b[49m\u001b[43minput_row\u001b[49m\u001b[43m]\u001b[49m\u001b[43m[\u001b[49m\u001b[38;5;124;43m\"\u001b[39;49m\u001b[38;5;124;43mitem_name\u001b[39;49m\u001b[38;5;124;43m\"\u001b[39;49m\u001b[43m]\u001b[49m\u001b[43m,\u001b[49m\u001b[43m \u001b[49m\u001b[38;5;66;43;03m# use the same item name\u001b[39;49;00m\n\u001b[1;32m      7\u001b[0m \u001b[43m)\u001b[49m\n",
      "File \u001b[0;32m/memdyn/davide/mambaforge/envs/mescore/lib/python3.10/site-packages/mesmerize_core/caiman_extensions/common.py:94\u001b[0m, in \u001b[0;36mCaimanDataFrameExtensions.add_item\u001b[0;34m(self, algo, item_name, input_movie_path, params)\u001b[0m\n\u001b[1;32m     89\u001b[0m     \u001b[38;5;28;01mif\u001b[39;00m \u001b[38;5;129;01mnot\u001b[39;00m input_movie_path[\u001b[38;5;124m\"\u001b[39m\u001b[38;5;124malgo\u001b[39m\u001b[38;5;124m\"\u001b[39m] \u001b[38;5;241m==\u001b[39m \u001b[38;5;124m\"\u001b[39m\u001b[38;5;124mmcorr\u001b[39m\u001b[38;5;124m\"\u001b[39m:\n\u001b[1;32m     90\u001b[0m         \u001b[38;5;28;01mraise\u001b[39;00m \u001b[38;5;167;01mValueError\u001b[39;00m(\n\u001b[1;32m     91\u001b[0m             \u001b[38;5;124m\"\u001b[39m\u001b[38;5;124m`input_movie_path` argument must be an input movie path \u001b[39m\u001b[38;5;124m\"\u001b[39m\n\u001b[1;32m     92\u001b[0m             \u001b[38;5;124m\"\u001b[39m\u001b[38;5;124mas a `str` or `Path` object, or a mcorr batch item.\u001b[39m\u001b[38;5;124m\"\u001b[39m\n\u001b[1;32m     93\u001b[0m         )\n\u001b[0;32m---> 94\u001b[0m     input_movie_path \u001b[38;5;241m=\u001b[39m \u001b[43minput_movie_path\u001b[49m\u001b[38;5;241;43m.\u001b[39;49m\u001b[43mmcorr\u001b[49m\u001b[38;5;241;43m.\u001b[39;49m\u001b[43mget_output_path\u001b[49m\u001b[43m(\u001b[49m\u001b[43m)\u001b[49m\n\u001b[1;32m     96\u001b[0m \u001b[38;5;66;03m# make sure path is within batch dir or parent raw data path\u001b[39;00m\n\u001b[1;32m     97\u001b[0m input_movie_path \u001b[38;5;241m=\u001b[39m \u001b[38;5;28mself\u001b[39m\u001b[38;5;241m.\u001b[39m_df\u001b[38;5;241m.\u001b[39mpaths\u001b[38;5;241m.\u001b[39mresolve(input_movie_path)\n",
      "File \u001b[0;32m/memdyn/davide/mambaforge/envs/mescore/lib/python3.10/site-packages/mesmerize_core/caiman_extensions/_utils.py:24\u001b[0m, in \u001b[0;36mvalidate.<locals>.dec.<locals>.wrapper\u001b[0;34m(self, *args, **kwargs)\u001b[0m\n\u001b[1;32m     22\u001b[0m \u001b[38;5;28;01mif\u001b[39;00m \u001b[38;5;129;01mnot\u001b[39;00m \u001b[38;5;28mself\u001b[39m\u001b[38;5;241m.\u001b[39m_series[\u001b[38;5;124m\"\u001b[39m\u001b[38;5;124moutputs\u001b[39m\u001b[38;5;124m\"\u001b[39m][\u001b[38;5;124m\"\u001b[39m\u001b[38;5;124msuccess\u001b[39m\u001b[38;5;124m\"\u001b[39m]:\n\u001b[1;32m     23\u001b[0m     tb \u001b[38;5;241m=\u001b[39m \u001b[38;5;28mself\u001b[39m\u001b[38;5;241m.\u001b[39m_series[\u001b[38;5;124m\"\u001b[39m\u001b[38;5;124moutputs\u001b[39m\u001b[38;5;124m\"\u001b[39m][\u001b[38;5;124m\"\u001b[39m\u001b[38;5;124mtraceback\u001b[39m\u001b[38;5;124m\"\u001b[39m]\n\u001b[0;32m---> 24\u001b[0m     \u001b[38;5;28;01mraise\u001b[39;00m BatchItemUnsuccessfulError(\u001b[38;5;124mf\u001b[39m\u001b[38;5;124m\"\u001b[39m\u001b[38;5;124mBatch item was unsuccessful, traceback from subprocess:\u001b[39m\u001b[38;5;130;01m\\n\u001b[39;00m\u001b[38;5;132;01m{\u001b[39;00mtb\u001b[38;5;132;01m}\u001b[39;00m\u001b[38;5;124m\"\u001b[39m)\n\u001b[1;32m     25\u001b[0m \u001b[38;5;28;01mreturn\u001b[39;00m func(\u001b[38;5;28mself\u001b[39m, \u001b[38;5;241m*\u001b[39margs, \u001b[38;5;241m*\u001b[39m\u001b[38;5;241m*\u001b[39mkwargs)\n",
      "\u001b[0;31mBatchItemUnsuccessfulError\u001b[0m: Batch item was unsuccessful, traceback from subprocess:\nmultiprocessing.pool.RemoteTraceback: \n\"\"\"\nTraceback (most recent call last):\n  File \"/memdyn/davide/mambaforge/envs/mescore/lib/python3.10/multiprocessing/pool.py\", line 125, in worker\n    result = (True, func(*args, **kwds))\n  File \"/memdyn/davide/mambaforge/envs/mescore/lib/python3.10/multiprocessing/pool.py\", line 48, in mapstar\n    return list(map(*args))\n  File \"/memdyn/davide/mambaforge/envs/mescore/lib/python3.10/site-packages/caiman/motion_correction.py\", line 3133, in tile_and_correct_wrapper\n    outv[:, idxs] = np.reshape(\n  File \"<__array_function__ internals>\", line 200, in reshape\n  File \"/memdyn/davide/mambaforge/envs/mescore/lib/python3.10/site-packages/numpy/core/fromnumeric.py\", line 298, in reshape\n    return _wrapfunc(a, 'reshape', newshape, order=order)\n  File \"/memdyn/davide/mambaforge/envs/mescore/lib/python3.10/site-packages/numpy/core/fromnumeric.py\", line 57, in _wrapfunc\n    return bound(*args, **kwds)\nnumpy.core._exceptions._ArrayMemoryError: Unable to allocate 6.56 GiB for an array with shape (6717, 512, 512) and data type float32\n\"\"\"\n\nThe above exception was the direct cause of the following exception:\n\nTraceback (most recent call last):\n  File \"/memdyn/davide/mambaforge/envs/mescore/lib/python3.10/site-packages/mesmerize_core/algorithms/mcorr.py\", line 67, in run_algo\n    mc.motion_correct(save_movie=True)\n  File \"/memdyn/davide/mambaforge/envs/mescore/lib/python3.10/site-packages/caiman/motion_correction.py\", line 259, in motion_correct\n    self.motion_correct_pwrigid(template=template, save_movie=save_movie)\n  File \"/memdyn/davide/mambaforge/envs/mescore/lib/python3.10/site-packages/caiman/motion_correction.py\", line 373, in motion_correct_pwrigid\n    _x_shifts_els, _y_shifts_els, _z_shifts_els, _coord_shifts_els = motion_correct_batch_pwrigid(\n  File \"/memdyn/davide/mambaforge/envs/mescore/lib/python3.10/site-packages/caiman/motion_correction.py\", line 3023, in motion_correct_batch_pwrigid\n    fname_tot_els, res_el = motion_correction_piecewise(fname, splits, strides, overlaps,\n  File \"/memdyn/davide/mambaforge/envs/mescore/lib/python3.10/site-packages/caiman/motion_correction.py\", line 3215, in motion_correction_piecewise\n    res = dview.map_async(tile_and_correct_wrapper, pars).get(4294967)\n  File \"/memdyn/davide/mambaforge/envs/mescore/lib/python3.10/multiprocessing/pool.py\", line 774, in get\n    raise self._value\nnumpy.core._exceptions._ArrayMemoryError: Unable to allocate 6.56 GiB for an array with shape (6717, 512, 512) and data type float32\n"
     ]
    }
   ],
   "source": [
    "# add a batch item\n",
    "df.caiman.add_item(\n",
    "    algo='cnmf', # algo is cnmf\n",
    "    input_movie_path=df.iloc[input_row],  # use mcorr output from a completed batch item\n",
    "    params=params_cnmf,\n",
    "    item_name=df.iloc[input_row][\"item_name\"], # use the same item name\n",
    ")"
   ]
  },
  {
   "cell_type": "code",
   "execution_count": 116,
   "id": "e186e51a-2284-487b-872c-e222b32603ac",
   "metadata": {},
   "outputs": [
    {
     "data": {
      "text/html": [
       "<div>\n",
       "<style scoped>\n",
       "    .dataframe tbody tr th:only-of-type {\n",
       "        vertical-align: middle;\n",
       "    }\n",
       "\n",
       "    .dataframe tbody tr th {\n",
       "        vertical-align: top;\n",
       "    }\n",
       "\n",
       "    .dataframe thead th {\n",
       "        text-align: right;\n",
       "    }\n",
       "</style>\n",
       "<table border=\"1\" class=\"dataframe\">\n",
       "  <thead>\n",
       "    <tr style=\"text-align: right;\">\n",
       "      <th></th>\n",
       "      <th>algo</th>\n",
       "      <th>item_name</th>\n",
       "      <th>input_movie_path</th>\n",
       "      <th>params</th>\n",
       "      <th>outputs</th>\n",
       "      <th>added_time</th>\n",
       "      <th>ran_time</th>\n",
       "      <th>algo_duration</th>\n",
       "      <th>comments</th>\n",
       "      <th>uuid</th>\n",
       "    </tr>\n",
       "  </thead>\n",
       "  <tbody>\n",
       "    <tr>\n",
       "      <th>5</th>\n",
       "      <td>cnmf</td>\n",
       "      <td>toms_429420_20230202</td>\n",
       "      <td>f9fbfa16-3ff6-458d-9163-f0de100f82e3/f9fbfa16-...</td>\n",
       "      <td>{'main': {'fr': 30, 'p': 1, 'nb': 2, 'merge_th...</td>\n",
       "      <td>None</td>\n",
       "      <td>2023-02-11T12:02:24</td>\n",
       "      <td>None</td>\n",
       "      <td>None</td>\n",
       "      <td>None</td>\n",
       "      <td>55079dfe-3e82-4ff6-b202-5a9795415f0c</td>\n",
       "    </tr>\n",
       "  </tbody>\n",
       "</table>\n",
       "</div>"
      ],
      "text/plain": [
       "   algo             item_name  \\\n",
       "5  cnmf  toms_429420_20230202   \n",
       "\n",
       "                                    input_movie_path  \\\n",
       "5  f9fbfa16-3ff6-458d-9163-f0de100f82e3/f9fbfa16-...   \n",
       "\n",
       "                                              params outputs  \\\n",
       "5  {'main': {'fr': 30, 'p': 1, 'nb': 2, 'merge_th...    None   \n",
       "\n",
       "            added_time ran_time algo_duration comments  \\\n",
       "5  2023-02-11T12:02:24     None          None     None   \n",
       "\n",
       "                                   uuid  \n",
       "5  55079dfe-3e82-4ff6-b202-5a9795415f0c  "
      ]
     },
     "execution_count": 116,
     "metadata": {},
     "output_type": "execute_result"
    }
   ],
   "source": [
    "df.tail(1)"
   ]
  },
  {
   "cell_type": "markdown",
   "id": "a3bed1ea-7bcb-45b6-a71b-a7b0c3403a03",
   "metadata": {},
   "source": [
    "# Run source separation"
   ]
  },
  {
   "cell_type": "code",
   "execution_count": 117,
   "id": "d7c8fbd5-9cf6-46c3-aa93-e24abb3d1382",
   "metadata": {},
   "outputs": [
    {
     "data": {
      "text/html": [
       "<div>\n",
       "<style scoped>\n",
       "    .dataframe tbody tr th:only-of-type {\n",
       "        vertical-align: middle;\n",
       "    }\n",
       "\n",
       "    .dataframe tbody tr th {\n",
       "        vertical-align: top;\n",
       "    }\n",
       "\n",
       "    .dataframe thead th {\n",
       "        text-align: right;\n",
       "    }\n",
       "</style>\n",
       "<table border=\"1\" class=\"dataframe\">\n",
       "  <thead>\n",
       "    <tr style=\"text-align: right;\">\n",
       "      <th></th>\n",
       "      <th>algo</th>\n",
       "      <th>item_name</th>\n",
       "      <th>input_movie_path</th>\n",
       "      <th>params</th>\n",
       "      <th>outputs</th>\n",
       "      <th>added_time</th>\n",
       "      <th>ran_time</th>\n",
       "      <th>algo_duration</th>\n",
       "      <th>comments</th>\n",
       "      <th>uuid</th>\n",
       "    </tr>\n",
       "  </thead>\n",
       "  <tbody>\n",
       "    <tr>\n",
       "      <th>3</th>\n",
       "      <td>cnmf</td>\n",
       "      <td>toms_429420_20230202</td>\n",
       "      <td>f9fbfa16-3ff6-458d-9163-f0de100f82e3/f9fbfa16-...</td>\n",
       "      <td>{'main': {'fr': 30, 'p': 1, 'nb': 2, 'merge_th...</td>\n",
       "      <td>None</td>\n",
       "      <td>2023-02-11T12:00:48</td>\n",
       "      <td>None</td>\n",
       "      <td>None</td>\n",
       "      <td>None</td>\n",
       "      <td>d13856c9-e02d-4933-b41a-7614d5732e0d</td>\n",
       "    </tr>\n",
       "    <tr>\n",
       "      <th>4</th>\n",
       "      <td>cnmf</td>\n",
       "      <td>toms_429420_20230202</td>\n",
       "      <td>f9fbfa16-3ff6-458d-9163-f0de100f82e3/f9fbfa16-...</td>\n",
       "      <td>{'main': {'fr': 30, 'p': 1, 'nb': 2, 'merge_th...</td>\n",
       "      <td>None</td>\n",
       "      <td>2023-02-11T12:00:58</td>\n",
       "      <td>None</td>\n",
       "      <td>None</td>\n",
       "      <td>None</td>\n",
       "      <td>df5db209-3163-4f33-b874-439e2ea4c085</td>\n",
       "    </tr>\n",
       "    <tr>\n",
       "      <th>5</th>\n",
       "      <td>cnmf</td>\n",
       "      <td>toms_429420_20230202</td>\n",
       "      <td>f9fbfa16-3ff6-458d-9163-f0de100f82e3/f9fbfa16-...</td>\n",
       "      <td>{'main': {'fr': 30, 'p': 1, 'nb': 2, 'merge_th...</td>\n",
       "      <td>None</td>\n",
       "      <td>2023-02-11T12:02:24</td>\n",
       "      <td>None</td>\n",
       "      <td>None</td>\n",
       "      <td>None</td>\n",
       "      <td>55079dfe-3e82-4ff6-b202-5a9795415f0c</td>\n",
       "    </tr>\n",
       "  </tbody>\n",
       "</table>\n",
       "</div>"
      ],
      "text/plain": [
       "   algo             item_name  \\\n",
       "3  cnmf  toms_429420_20230202   \n",
       "4  cnmf  toms_429420_20230202   \n",
       "5  cnmf  toms_429420_20230202   \n",
       "\n",
       "                                    input_movie_path  \\\n",
       "3  f9fbfa16-3ff6-458d-9163-f0de100f82e3/f9fbfa16-...   \n",
       "4  f9fbfa16-3ff6-458d-9163-f0de100f82e3/f9fbfa16-...   \n",
       "5  f9fbfa16-3ff6-458d-9163-f0de100f82e3/f9fbfa16-...   \n",
       "\n",
       "                                              params outputs  \\\n",
       "3  {'main': {'fr': 30, 'p': 1, 'nb': 2, 'merge_th...    None   \n",
       "4  {'main': {'fr': 30, 'p': 1, 'nb': 2, 'merge_th...    None   \n",
       "5  {'main': {'fr': 30, 'p': 1, 'nb': 2, 'merge_th...    None   \n",
       "\n",
       "            added_time ran_time algo_duration comments  \\\n",
       "3  2023-02-11T12:00:48     None          None     None   \n",
       "4  2023-02-11T12:00:58     None          None     None   \n",
       "5  2023-02-11T12:02:24     None          None     None   \n",
       "\n",
       "                                   uuid  \n",
       "3  d13856c9-e02d-4933-b41a-7614d5732e0d  \n",
       "4  df5db209-3163-4f33-b874-439e2ea4c085  \n",
       "5  55079dfe-3e82-4ff6-b202-5a9795415f0c  "
      ]
     },
     "execution_count": 117,
     "metadata": {},
     "output_type": "execute_result"
    }
   ],
   "source": [
    "subset = df[(df['algo']=='cnmf') & (df['item_name']==item_name)]\n",
    "subset"
   ]
  },
  {
   "cell_type": "code",
   "execution_count": 118,
   "id": "6522657d-f1b2-42cd-a598-40f68a290c2e",
   "metadata": {},
   "outputs": [],
   "source": [
    "os.environ[\"MESMERIZE_N_PROCESSES\"] = '10'"
   ]
  },
  {
   "cell_type": "code",
   "execution_count": null,
   "id": "133b3f20-498e-4461-9f82-6df44095fbb5",
   "metadata": {
    "tags": []
   },
   "outputs": [
    {
     "name": "stdout",
     "output_type": "stream",
     "text": [
      "RUNNING cnmf ON ITEM: toms_429420_20230202\n"
     ]
    },
    {
     "name": "stderr",
     "output_type": "stream",
     "text": [
      "2023-02-11 12:02:44.430026: I tensorflow/core/platform/cpu_feature_guard.cc:193] This TensorFlow binary is optimized with oneAPI Deep Neural Network Library (oneDNN) to use the following CPU instructions in performance-critical operations:  SSE4.1 SSE4.2 AVX AVX2 FMA\n",
      "To enable them in other operations, rebuild TensorFlow with the appropriate compiler flags.\n"
     ]
    },
    {
     "name": "stdout",
     "output_type": "stream",
     "text": [
      "************************************************************************\n",
      "\n",
      "Starting CNMF item:\n",
      "algo                                                             cnmf\n",
      "item_name                                        toms_429420_20230202\n",
      "input_movie_path    f9fbfa16-3ff6-458d-9163-f0de100f82e3/f9fbfa16-...\n",
      "params              {'main': {'fr': 30, 'p': 1, 'nb': 2, 'merge_th...\n",
      "outputs                                                          None\n",
      "added_time                                        2023-02-11T12:00:48\n",
      "ran_time                                                         None\n",
      "algo_duration                                                    None\n",
      "comments                                                         None\n",
      "uuid                             d13856c9-e02d-4933-b41a-7614d5732e0d\n",
      "Name: 3, dtype: object\n",
      "With params:{'main': {'fr': 30, 'p': 1, 'nb': 2, 'merge_thr': 0.85, 'rf': 15, 'stride': 6, 'K': 4, 'gSig': (4, 4), 'ssub': 1, 'tsub': 1, 'method_init': 'greedy_roi', 'min_SNR': 2.0, 'rval_thr': 0.7, 'use_cnn': False, 'min_cnn_thr': 0.8, 'cnn_lowest': 0.1, 'decay_time': 0.4}, 'refit': True}\n"
     ]
    }
   ],
   "source": [
    "# run all items in subset \n",
    "for i in range(len(subset)):\n",
    "    row = subset.iloc[i]\n",
    "    print(f\"RUNNING {row.algo} ON ITEM: {row.item_name}\")\n",
    "    process = row.caiman.run()\n",
    "\n",
    "print('DONE')"
   ]
  },
  {
   "cell_type": "code",
   "execution_count": 122,
   "id": "c24b350d-01a4-4b6d-9c0b-09dc66198610",
   "metadata": {},
   "outputs": [
    {
     "ename": "EOFError",
     "evalue": "Ran out of input",
     "output_type": "error",
     "traceback": [
      "\u001b[0;31m---------------------------------------------------------------------------\u001b[0m",
      "\u001b[0;31mEOFError\u001b[0m                                  Traceback (most recent call last)",
      "Cell \u001b[0;32mIn[122], line 1\u001b[0m\n\u001b[0;32m----> 1\u001b[0m df \u001b[38;5;241m=\u001b[39m \u001b[43mdf\u001b[49m\u001b[38;5;241;43m.\u001b[39;49m\u001b[43mcaiman\u001b[49m\u001b[38;5;241;43m.\u001b[39;49m\u001b[43mreload_from_disk\u001b[49m\u001b[43m(\u001b[49m\u001b[43m)\u001b[49m\n",
      "File \u001b[0;32m/memdyn/davide/mambaforge/envs/mescore/lib/python3.10/site-packages/mesmerize_core/caiman_extensions/common.py:177\u001b[0m, in \u001b[0;36mCaimanDataFrameExtensions.reload_from_disk\u001b[0;34m(self)\u001b[0m\n\u001b[1;32m    162\u001b[0m \u001b[38;5;28;01mdef\u001b[39;00m \u001b[38;5;21mreload_from_disk\u001b[39m(\u001b[38;5;28mself\u001b[39m) \u001b[38;5;241m-\u001b[39m\u001b[38;5;241m>\u001b[39m pd\u001b[38;5;241m.\u001b[39mDataFrame:\n\u001b[1;32m    163\u001b[0m \u001b[38;5;250m    \u001b[39m\u001b[38;5;124;03m\"\"\"\u001b[39;00m\n\u001b[1;32m    164\u001b[0m \u001b[38;5;124;03m    Returns the DataFrame on disk.\u001b[39;00m\n\u001b[1;32m    165\u001b[0m \n\u001b[0;32m   (...)\u001b[0m\n\u001b[1;32m    175\u001b[0m \n\u001b[1;32m    176\u001b[0m \u001b[38;5;124;03m    \"\"\"\u001b[39;00m\n\u001b[0;32m--> 177\u001b[0m     \u001b[38;5;28;01mreturn\u001b[39;00m \u001b[43mload_batch\u001b[49m\u001b[43m(\u001b[49m\u001b[38;5;28;43mself\u001b[39;49m\u001b[38;5;241;43m.\u001b[39;49m\u001b[43m_df\u001b[49m\u001b[38;5;241;43m.\u001b[39;49m\u001b[43mpaths\u001b[49m\u001b[38;5;241;43m.\u001b[39;49m\u001b[43mget_batch_path\u001b[49m\u001b[43m(\u001b[49m\u001b[43m)\u001b[49m\u001b[43m)\u001b[49m\n",
      "File \u001b[0;32m/memdyn/davide/mambaforge/envs/mescore/lib/python3.10/site-packages/mesmerize_core/batch_utils.py:180\u001b[0m, in \u001b[0;36mload_batch\u001b[0;34m(path)\u001b[0m\n\u001b[1;32m    152\u001b[0m \u001b[38;5;250m\u001b[39m\u001b[38;5;124;03m\"\"\"\u001b[39;00m\n\u001b[1;32m    153\u001b[0m \u001b[38;5;124;03mLoad the batch dataframe pickle file\u001b[39;00m\n\u001b[1;32m    154\u001b[0m \n\u001b[0;32m   (...)\u001b[0m\n\u001b[1;32m    175\u001b[0m \n\u001b[1;32m    176\u001b[0m \u001b[38;5;124;03m\"\"\"\u001b[39;00m\n\u001b[1;32m    178\u001b[0m path \u001b[38;5;241m=\u001b[39m validate_path(path)\n\u001b[0;32m--> 180\u001b[0m df \u001b[38;5;241m=\u001b[39m \u001b[43mpd\u001b[49m\u001b[38;5;241;43m.\u001b[39;49m\u001b[43mread_pickle\u001b[49m\u001b[43m(\u001b[49m\u001b[43mPath\u001b[49m\u001b[43m(\u001b[49m\u001b[43mpath\u001b[49m\u001b[43m)\u001b[49m\u001b[43m)\u001b[49m\n\u001b[1;32m    182\u001b[0m df\u001b[38;5;241m.\u001b[39mpaths\u001b[38;5;241m.\u001b[39mset_batch_path(path)\n\u001b[1;32m    184\u001b[0m \u001b[38;5;66;03m# check to see if added and ran timestamp are in df\u001b[39;00m\n",
      "File \u001b[0;32m/memdyn/davide/mambaforge/envs/mescore/lib/python3.10/site-packages/pandas/io/pickle.py:208\u001b[0m, in \u001b[0;36mread_pickle\u001b[0;34m(filepath_or_buffer, compression, storage_options)\u001b[0m\n\u001b[1;32m    205\u001b[0m     \u001b[38;5;28;01mwith\u001b[39;00m warnings\u001b[38;5;241m.\u001b[39mcatch_warnings(record\u001b[38;5;241m=\u001b[39m\u001b[38;5;28;01mTrue\u001b[39;00m):\n\u001b[1;32m    206\u001b[0m         \u001b[38;5;66;03m# We want to silence any warnings about, e.g. moved modules.\u001b[39;00m\n\u001b[1;32m    207\u001b[0m         warnings\u001b[38;5;241m.\u001b[39msimplefilter(\u001b[38;5;124m\"\u001b[39m\u001b[38;5;124mignore\u001b[39m\u001b[38;5;124m\"\u001b[39m, \u001b[38;5;167;01mWarning\u001b[39;00m)\n\u001b[0;32m--> 208\u001b[0m         \u001b[38;5;28;01mreturn\u001b[39;00m \u001b[43mpickle\u001b[49m\u001b[38;5;241;43m.\u001b[39;49m\u001b[43mload\u001b[49m\u001b[43m(\u001b[49m\u001b[43mhandles\u001b[49m\u001b[38;5;241;43m.\u001b[39;49m\u001b[43mhandle\u001b[49m\u001b[43m)\u001b[49m\n\u001b[1;32m    209\u001b[0m \u001b[38;5;28;01mexcept\u001b[39;00m excs_to_catch:\n\u001b[1;32m    210\u001b[0m     \u001b[38;5;66;03m# e.g.\u001b[39;00m\n\u001b[1;32m    211\u001b[0m     \u001b[38;5;66;03m#  \"No module named 'pandas.core.sparse.series'\"\u001b[39;00m\n\u001b[1;32m    212\u001b[0m     \u001b[38;5;66;03m#  \"Can't get attribute '__nat_unpickle' on <module 'pandas._libs.tslib\"\u001b[39;00m\n\u001b[1;32m    213\u001b[0m     \u001b[38;5;28;01mreturn\u001b[39;00m pc\u001b[38;5;241m.\u001b[39mload(handles\u001b[38;5;241m.\u001b[39mhandle, encoding\u001b[38;5;241m=\u001b[39m\u001b[38;5;28;01mNone\u001b[39;00m)\n",
      "\u001b[0;31mEOFError\u001b[0m: Ran out of input"
     ]
    }
   ],
   "source": [
    "df = df.caiman.reload_from_disk()"
   ]
  },
  {
   "cell_type": "markdown",
   "id": "cddbc156-2b58-4071-92af-5d569567005d",
   "metadata": {
    "tags": []
   },
   "source": [
    "# Save final version\n",
    "Deletes discarded parameters setting, saves preprocessed data to preprocessed folder destination in consistent format"
   ]
  },
  {
   "cell_type": "code",
   "execution_count": null,
   "id": "fb268381-5782-4cd4-abf2-69094aa69796",
   "metadata": {},
   "outputs": [],
   "source": []
  }
 ],
 "metadata": {
  "kernelspec": {
   "display_name": "Python 3 (ipykernel)",
   "language": "python",
   "name": "python3"
  },
  "language_info": {
   "codemirror_mode": {
    "name": "ipython",
    "version": 3
   },
   "file_extension": ".py",
   "mimetype": "text/x-python",
   "name": "python",
   "nbconvert_exporter": "python",
   "pygments_lexer": "ipython3",
   "version": "3.10.9"
  }
 },
 "nbformat": 4,
 "nbformat_minor": 5
}
