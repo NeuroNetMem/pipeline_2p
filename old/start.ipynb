{
 "cells": [
  {
   "cell_type": "code",
   "execution_count": 1,
   "id": "a09efa8b-8129-4893-abd8-8ac620882e0c",
   "metadata": {
    "tags": []
   },
   "outputs": [],
   "source": [
    "import numpy as np\n",
    "import pandas as pd\n",
    "import pickle"
   ]
  },
  {
   "cell_type": "code",
   "execution_count": null,
   "id": "66c41793-d619-4010-9705-3c9541423800",
   "metadata": {},
   "outputs": [],
   "source": [
    "neural_traces = np.load('nerual_traces.npy') # neural traces are saved in the numpy specific format npy\n",
    "trial_matrix = pd.read_csv('trial_data.csv') # the trial matrix is saved in comma separated value (csv) file\n",
    "\n",
    "with open('behaviour.pickle', 'rb') as file:\n",
    "    b_data =  pickle.load(file)  # the behaviour data is saved in a .pickle, a 'serialzed' version of a general python object (in this case a dict)\n",
    "\n"
   ]
  },
  {
   "cell_type": "code",
   "execution_count": 2,
   "id": "5a998976-01e0-41c1-bf5a-cb5ba32f4f45",
   "metadata": {
    "tags": []
   },
   "outputs": [],
   "source": [
    "import tifffile"
   ]
  },
  {
   "cell_type": "code",
   "execution_count": 7,
   "id": "a8d3017b-7986-4ad7-98cb-0c0e79820c34",
   "metadata": {
    "tags": []
   },
   "outputs": [
    {
     "name": "stdout",
     "output_type": "stream",
     "text": [
      "Name: scanimage-tiff-reader\n",
      "Version: 1.4.1\n",
      "Summary: A fast (big)tiff reader that provides access to ScanImage-specific metadata.\n",
      "Home-page: https://gitlab.com/vidriotech/scanimagetiffreader-python\n",
      "Author: Nathan Clack\n",
      "Author-email: nathan@vidriotech.com\n",
      "License: \n",
      "Location: /scratch/dspalla/mambaforge/envs/mescore/lib/python3.10/site-packages\n",
      "Requires: numpy\n",
      "Required-by: \n"
     ]
    }
   ],
   "source": []
  },
  {
   "cell_type": "code",
   "execution_count": 10,
   "id": "17d5bdd1-94c1-4c41-83b2-a41b7057aa91",
   "metadata": {
    "tags": []
   },
   "outputs": [
    {
     "data": {
      "text/plain": [
       "\u001b[0;31mInit signature:\u001b[0m\n",
       "\u001b[0mtifffile\u001b[0m\u001b[0;34m.\u001b[0m\u001b[0mTiffReader\u001b[0m\u001b[0;34m(\u001b[0m\u001b[0;34m\u001b[0m\n",
       "\u001b[0;34m\u001b[0m    \u001b[0mfile\u001b[0m\u001b[0;34m:\u001b[0m \u001b[0;34m'str | os.PathLike | FileHandle | BinaryIO'\u001b[0m\u001b[0;34m,\u001b[0m\u001b[0;34m\u001b[0m\n",
       "\u001b[0;34m\u001b[0m    \u001b[0;34m/\u001b[0m\u001b[0;34m,\u001b[0m\u001b[0;34m\u001b[0m\n",
       "\u001b[0;34m\u001b[0m    \u001b[0;34m*\u001b[0m\u001b[0;34m,\u001b[0m\u001b[0;34m\u001b[0m\n",
       "\u001b[0;34m\u001b[0m    \u001b[0mmode\u001b[0m\u001b[0;34m:\u001b[0m \u001b[0;34m\"Literal['r', 'r+'] | None\"\u001b[0m \u001b[0;34m=\u001b[0m \u001b[0;32mNone\u001b[0m\u001b[0;34m,\u001b[0m\u001b[0;34m\u001b[0m\n",
       "\u001b[0;34m\u001b[0m    \u001b[0mname\u001b[0m\u001b[0;34m:\u001b[0m \u001b[0;34m'str | None'\u001b[0m \u001b[0;34m=\u001b[0m \u001b[0;32mNone\u001b[0m\u001b[0;34m,\u001b[0m\u001b[0;34m\u001b[0m\n",
       "\u001b[0;34m\u001b[0m    \u001b[0moffset\u001b[0m\u001b[0;34m:\u001b[0m \u001b[0;34m'int | None'\u001b[0m \u001b[0;34m=\u001b[0m \u001b[0;32mNone\u001b[0m\u001b[0;34m,\u001b[0m\u001b[0;34m\u001b[0m\n",
       "\u001b[0;34m\u001b[0m    \u001b[0msize\u001b[0m\u001b[0;34m:\u001b[0m \u001b[0;34m'int | None'\u001b[0m \u001b[0;34m=\u001b[0m \u001b[0;32mNone\u001b[0m\u001b[0;34m,\u001b[0m\u001b[0;34m\u001b[0m\n",
       "\u001b[0;34m\u001b[0m    \u001b[0momexml\u001b[0m\u001b[0;34m:\u001b[0m \u001b[0;34m'str | None'\u001b[0m \u001b[0;34m=\u001b[0m \u001b[0;32mNone\u001b[0m\u001b[0;34m,\u001b[0m\u001b[0;34m\u001b[0m\n",
       "\u001b[0;34m\u001b[0m    \u001b[0m_multifile\u001b[0m\u001b[0;34m:\u001b[0m \u001b[0;34m'bool | None'\u001b[0m \u001b[0;34m=\u001b[0m \u001b[0;32mNone\u001b[0m\u001b[0;34m,\u001b[0m\u001b[0;34m\u001b[0m\n",
       "\u001b[0;34m\u001b[0m    \u001b[0m_useframes\u001b[0m\u001b[0;34m:\u001b[0m \u001b[0;34m'bool | None'\u001b[0m \u001b[0;34m=\u001b[0m \u001b[0;32mNone\u001b[0m\u001b[0;34m,\u001b[0m\u001b[0;34m\u001b[0m\n",
       "\u001b[0;34m\u001b[0m    \u001b[0m_parent\u001b[0m\u001b[0;34m:\u001b[0m \u001b[0;34m'TiffFile | None'\u001b[0m \u001b[0;34m=\u001b[0m \u001b[0;32mNone\u001b[0m\u001b[0;34m,\u001b[0m\u001b[0;34m\u001b[0m\n",
       "\u001b[0;34m\u001b[0m    \u001b[0;34m**\u001b[0m\u001b[0mis_flags\u001b[0m\u001b[0;34m:\u001b[0m \u001b[0;34m'dict[str, bool | None]'\u001b[0m\u001b[0;34m,\u001b[0m\u001b[0;34m\u001b[0m\n",
       "\u001b[0;34m\u001b[0m\u001b[0;34m)\u001b[0m \u001b[0;34m->\u001b[0m \u001b[0;34m'None'\u001b[0m\u001b[0;34m\u001b[0m\u001b[0;34m\u001b[0m\u001b[0m\n",
       "\u001b[0;31mDocstring:\u001b[0m     \n",
       "Read image and metadata from TIFF file.\n",
       "\n",
       "TiffFile instances must be closed with :py:meth:`TiffFile.close`, which\n",
       "is automatically called when using the 'with' context manager.\n",
       "\n",
       "TiffFile instances are not thread-safe. All attributes are read-only.\n",
       "\n",
       "Parameters:\n",
       "    file:\n",
       "        Specifies TIFF file to read.\n",
       "        The file objects are closed in TiffFile.close().\n",
       "    mode:\n",
       "        File open mode in case `file` is file name. The default is 'rb'.\n",
       "    name:\n",
       "        Name of file in case `file` is file handle.\n",
       "    offset:\n",
       "        Start position of embedded file.\n",
       "        The default is the current file position.\n",
       "    size:\n",
       "        Size of embedded file. The default is the number of bytes\n",
       "        from the `offset` to the end of the file.\n",
       "    omexml:\n",
       "        OME metadata in XML format, e.g., from external companion file\n",
       "        or sanitized XML overriding XML in file.\n",
       "    _multifile, _useframes, _parent:\n",
       "        Internal use.\n",
       "    **is_flags:\n",
       "        Override `TiffFile.is_` flags, for example:\n",
       "\n",
       "        ``is_ome=False``: disable processing of OME-XML metadata.\n",
       "        ``is_lsm=False``: disable special handling of LSM files.\n",
       "        ``is_ndpi=True``: force file to be NDPI format.\n",
       "\n",
       "Raises:\n",
       "    TiffFileError: Invalid TIFF structure.\n",
       "\u001b[0;31mFile:\u001b[0m           /scratch/dspalla/mambaforge/envs/mescore/lib/python3.10/site-packages/tifffile/tifffile.py\n",
       "\u001b[0;31mType:\u001b[0m           type\n",
       "\u001b[0;31mSubclasses:\u001b[0m     "
      ]
     },
     "metadata": {},
     "output_type": "display_data"
    }
   ],
   "source": [
    "?tifffile.TiffReader"
   ]
  },
  {
   "cell_type": "code",
   "execution_count": null,
   "id": "7807d9dd-9279-48e6-86af-c078a4c0ea62",
   "metadata": {},
   "outputs": [],
   "source": []
  }
 ],
 "metadata": {
  "kernelspec": {
   "display_name": "Python 3 (ipykernel)",
   "language": "python",
   "name": "python3"
  },
  "language_info": {
   "codemirror_mode": {
    "name": "ipython",
    "version": 3
   },
   "file_extension": ".py",
   "mimetype": "text/x-python",
   "name": "python",
   "nbconvert_exporter": "python",
   "pygments_lexer": "ipython3",
   "version": "3.10.9"
  }
 },
 "nbformat": 4,
 "nbformat_minor": 5
}
