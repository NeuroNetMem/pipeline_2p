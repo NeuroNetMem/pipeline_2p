{
 "cells": [
  {
   "cell_type": "markdown",
   "id": "5115aa38-bb86-4c07-bdd0-fef3297f95f8",
   "metadata": {},
   "source": [
    "# Batch manager"
   ]
  },
  {
   "cell_type": "code",
   "execution_count": 3,
   "id": "175ae92b-73fa-44d8-ab75-fb3399f68e12",
   "metadata": {
    "pycharm": {
     "name": "#%%\n"
    },
    "tags": []
   },
   "outputs": [],
   "source": [
    "from mesmerize_core import *\n",
    "import numpy as np\n",
    "from copy import deepcopy\n",
    "import pandas as pd\n",
    "from pathlib import Path"
   ]
  },
  {
   "cell_type": "markdown",
   "id": "c16f235f-703b-4004-9cde-46794cafcf4a",
   "metadata": {
    "pycharm": {
     "name": "#%% md\n"
    }
   },
   "source": [
    "# Paths"
   ]
  },
  {
   "cell_type": "code",
   "execution_count": 6,
   "id": "233fa7a9-c623-48bd-aa2a-ef41a7204874",
   "metadata": {
    "pycharm": {
     "name": "#%%\n"
    }
   },
   "outputs": [],
   "source": [
    "#set_parent_raw_data_path(\"/Users/davide/caiman_data/\")\n",
    "batch_path = Path('/Volumes/imaging1/davide/2p_data/mesmerize-batch/batch.pickle')"
   ]
  },
  {
   "cell_type": "markdown",
   "id": "c78dbc4e-fda3-48b5-a736-3777ab727648",
   "metadata": {},
   "source": [
    "# Load batch"
   ]
  },
  {
   "cell_type": "code",
   "execution_count": 7,
   "id": "ee720c3f-6eab-4552-bee4-01357d38e3cd",
   "metadata": {
    "pycharm": {
     "name": "#%%\n"
    }
   },
   "outputs": [
    {
     "data": {
      "text/html": [
       "<div>\n",
       "<style scoped>\n",
       "    .dataframe tbody tr th:only-of-type {\n",
       "        vertical-align: middle;\n",
       "    }\n",
       "\n",
       "    .dataframe tbody tr th {\n",
       "        vertical-align: top;\n",
       "    }\n",
       "\n",
       "    .dataframe thead th {\n",
       "        text-align: right;\n",
       "    }\n",
       "</style>\n",
       "<table border=\"1\" class=\"dataframe\">\n",
       "  <thead>\n",
       "    <tr style=\"text-align: right;\">\n",
       "      <th></th>\n",
       "      <th>algo</th>\n",
       "      <th>item_name</th>\n",
       "      <th>input_movie_path</th>\n",
       "      <th>params</th>\n",
       "      <th>outputs</th>\n",
       "      <th>added_time</th>\n",
       "      <th>ran_time</th>\n",
       "      <th>algo_duration</th>\n",
       "      <th>comments</th>\n",
       "      <th>uuid</th>\n",
       "    </tr>\n",
       "  </thead>\n",
       "  <tbody>\n",
       "    <tr>\n",
       "      <th>0</th>\n",
       "      <td>mcorr</td>\n",
       "      <td>20220508_rec1</td>\n",
       "      <td>421851_hawaiana/20220508/20220508_rec1.tif</td>\n",
       "      <td>{'main': {'max_shifts': (24, 24), 'strides': (...</td>\n",
       "      <td>{'mean-projection-path': 5f27d28b-dc0d-4077-a9...</td>\n",
       "      <td>2023-01-31T22:23:02</td>\n",
       "      <td>2023-01-31T22:53:21</td>\n",
       "      <td>1792.39 sec</td>\n",
       "      <td>None</td>\n",
       "      <td>5f27d28b-dc0d-4077-a924-9c1cf901bdfd</td>\n",
       "    </tr>\n",
       "    <tr>\n",
       "      <th>1</th>\n",
       "      <td>cnmf</td>\n",
       "      <td>20220508_rec1</td>\n",
       "      <td>5f27d28b-dc0d-4077-a924-9c1cf901bdfd/5f27d28b-...</td>\n",
       "      <td>{'main': {'fr': 30, 'p': 1, 'nb': 2, 'merge_th...</td>\n",
       "      <td>{'mean-projection-path': b589b697-56af-4c8a-b8...</td>\n",
       "      <td>2023-01-31T22:55:05</td>\n",
       "      <td>2023-01-31T23:47:04</td>\n",
       "      <td>3110.85 sec</td>\n",
       "      <td>None</td>\n",
       "      <td>b589b697-56af-4c8a-b8c5-cad9a2f9a310</td>\n",
       "    </tr>\n",
       "    <tr>\n",
       "      <th>2</th>\n",
       "      <td>cnmf</td>\n",
       "      <td>20220508_rec1</td>\n",
       "      <td>5f27d28b-dc0d-4077-a924-9c1cf901bdfd/5f27d28b-...</td>\n",
       "      <td>{'main': {'fr': 30, 'p': 1, 'nb': 2, 'merge_th...</td>\n",
       "      <td>{'mean-projection-path': 9a824155-9c25-407d-aa...</td>\n",
       "      <td>2023-02-01T19:42:28</td>\n",
       "      <td>2023-02-01T20:41:48</td>\n",
       "      <td>3543.86 sec</td>\n",
       "      <td>None</td>\n",
       "      <td>9a824155-9c25-407d-aa7d-bbc9ccbb584e</td>\n",
       "    </tr>\n",
       "  </tbody>\n",
       "</table>\n",
       "</div>"
      ],
      "text/plain": [
       "    algo      item_name                                   input_movie_path  \\\n",
       "0  mcorr  20220508_rec1         421851_hawaiana/20220508/20220508_rec1.tif   \n",
       "1   cnmf  20220508_rec1  5f27d28b-dc0d-4077-a924-9c1cf901bdfd/5f27d28b-...   \n",
       "2   cnmf  20220508_rec1  5f27d28b-dc0d-4077-a924-9c1cf901bdfd/5f27d28b-...   \n",
       "\n",
       "                                              params  \\\n",
       "0  {'main': {'max_shifts': (24, 24), 'strides': (...   \n",
       "1  {'main': {'fr': 30, 'p': 1, 'nb': 2, 'merge_th...   \n",
       "2  {'main': {'fr': 30, 'p': 1, 'nb': 2, 'merge_th...   \n",
       "\n",
       "                                             outputs           added_time  \\\n",
       "0  {'mean-projection-path': 5f27d28b-dc0d-4077-a9...  2023-01-31T22:23:02   \n",
       "1  {'mean-projection-path': b589b697-56af-4c8a-b8...  2023-01-31T22:55:05   \n",
       "2  {'mean-projection-path': 9a824155-9c25-407d-aa...  2023-02-01T19:42:28   \n",
       "\n",
       "              ran_time algo_duration comments  \\\n",
       "0  2023-01-31T22:53:21   1792.39 sec     None   \n",
       "1  2023-01-31T23:47:04   3110.85 sec     None   \n",
       "2  2023-02-01T20:41:48   3543.86 sec     None   \n",
       "\n",
       "                                   uuid  \n",
       "0  5f27d28b-dc0d-4077-a924-9c1cf901bdfd  \n",
       "1  b589b697-56af-4c8a-b8c5-cad9a2f9a310  \n",
       "2  9a824155-9c25-407d-aa7d-bbc9ccbb584e  "
      ]
     },
     "execution_count": 7,
     "metadata": {},
     "output_type": "execute_result"
    }
   ],
   "source": [
    "df = load_batch(batch_path)\n",
    "df.head()"
   ]
  },
  {
   "cell_type": "markdown",
   "id": "a87d4f17-600e-4820-ae3f-384157a56e5e",
   "metadata": {
    "pycharm": {
     "name": "#%% md\n"
    }
   },
   "source": [
    "# Add motion correction parameters\n",
    "Add items to the batch by inputting the video path, the item name (= session name) and the parameter set for the motion correction. \n",
    "Run this cell multiple times to add multple rows with different items or parameters.\n",
    "\n",
    "Use:\n",
    "\n",
    "```\n",
    "item_id = df.iloc[i].uuid\n",
    "df.caiman.remove_item(item_id)\n",
    "```\n",
    "\n",
    "to remove the item at row i from the batch df.\n",
    "\n"
   ]
  },
  {
   "cell_type": "code",
   "execution_count": null,
   "id": "557df3bc-80bf-42b7-9c68-776cca491677",
   "metadata": {},
   "outputs": [],
   "source": [
    "# put movie path and session name (DATE_ANIMAL)\n",
    "item_name = \n",
    "input_movie_path = \n"
   ]
  },
  {
   "cell_type": "code",
   "execution_count": 12,
   "id": "28396502-0758-49cb-a135-38430a2aa085",
   "metadata": {
    "pycharm": {
     "name": "#%%\n"
    }
   },
   "outputs": [],
   "source": [
    "# define one parameter set\n",
    "mcorr_params =\\\n",
    "{\n",
    "  'main': # this key is necessary for specifying that these are the \"main\" params for the algorithm\n",
    "    {\n",
    "        'max_shifts': [24, 24],\n",
    "        'strides': [48, 48],\n",
    "        'overlaps': [24, 24],\n",
    "        'max_deviation_rigid': 3,\n",
    "        'border_nan': 'copy',\n",
    "        'pw_rigid': True,\n",
    "        'gSig_filt': None\n",
    "    },\n",
    "}"
   ]
  },
  {
   "cell_type": "code",
   "execution_count": 13,
   "id": "0d25ff8d-a4b5-4377-afa7-ea60c7bfde72",
   "metadata": {
    "pycharm": {
     "name": "#%%\n"
    }
   },
   "outputs": [
    {
     "data": {
      "text/html": [
       "<div>\n",
       "<style scoped>\n",
       "    .dataframe tbody tr th:only-of-type {\n",
       "        vertical-align: middle;\n",
       "    }\n",
       "\n",
       "    .dataframe tbody tr th {\n",
       "        vertical-align: top;\n",
       "    }\n",
       "\n",
       "    .dataframe thead th {\n",
       "        text-align: right;\n",
       "    }\n",
       "</style>\n",
       "<table border=\"1\" class=\"dataframe\">\n",
       "  <thead>\n",
       "    <tr style=\"text-align: right;\">\n",
       "      <th></th>\n",
       "      <th>algo</th>\n",
       "      <th>item_name</th>\n",
       "      <th>input_movie_path</th>\n",
       "      <th>params</th>\n",
       "      <th>outputs</th>\n",
       "      <th>added_time</th>\n",
       "      <th>ran_time</th>\n",
       "      <th>algo_duration</th>\n",
       "      <th>comments</th>\n",
       "      <th>uuid</th>\n",
       "    </tr>\n",
       "  </thead>\n",
       "  <tbody>\n",
       "    <tr>\n",
       "      <th>0</th>\n",
       "      <td>mcorr</td>\n",
       "      <td>Sue_2x_3000_40_-46</td>\n",
       "      <td>example_movies/Sue_2x_3000_40_-46.tif</td>\n",
       "      <td>{'main': {'max_shifts': (24, 24), 'strides': (48, 48), 'overlaps': (24, 24), 'max_deviation_rigid': 3, 'border_nan':...</td>\n",
       "      <td>None</td>\n",
       "      <td>2023-01-24T11:59:02</td>\n",
       "      <td>None</td>\n",
       "      <td>None</td>\n",
       "      <td>None</td>\n",
       "      <td>06753247-db19-468e-aba0-9dbea6a155f7</td>\n",
       "    </tr>\n",
       "  </tbody>\n",
       "</table>\n",
       "</div>"
      ],
      "text/plain": [
       "    algo           item_name                       input_movie_path  \\\n",
       "0  mcorr  Sue_2x_3000_40_-46  example_movies/Sue_2x_3000_40_-46.tif   \n",
       "\n",
       "                                                                                                                    params  \\\n",
       "0  {'main': {'max_shifts': (24, 24), 'strides': (48, 48), 'overlaps': (24, 24), 'max_deviation_rigid': 3, 'border_nan':...   \n",
       "\n",
       "  outputs           added_time ran_time algo_duration comments  \\\n",
       "0    None  2023-01-24T11:59:02     None          None     None   \n",
       "\n",
       "                                   uuid  \n",
       "0  06753247-db19-468e-aba0-9dbea6a155f7  "
      ]
     },
     "execution_count": 13,
     "metadata": {},
     "output_type": "execute_result"
    }
   ],
   "source": [
    "# add an item to the batch\n",
    "df.caiman.add_item(\n",
    "    algo='mcorr',\n",
    "    input_movie_path=input_movie_path,\n",
    "    params=mcorr_params,\n",
    "    item_name=item_name,  # filename of the movie, but can be anything\n",
    ")"
   ]
  },
  {
   "cell_type": "code",
   "execution_count": 13,
   "id": "06c7c66f-8be3-4602-bd02-c0877ae9e8be",
   "metadata": {},
   "outputs": [
    {
     "data": {
      "text/html": [
       "<div>\n",
       "<style scoped>\n",
       "    .dataframe tbody tr th:only-of-type {\n",
       "        vertical-align: middle;\n",
       "    }\n",
       "\n",
       "    .dataframe tbody tr th {\n",
       "        vertical-align: top;\n",
       "    }\n",
       "\n",
       "    .dataframe thead th {\n",
       "        text-align: right;\n",
       "    }\n",
       "</style>\n",
       "<table border=\"1\" class=\"dataframe\">\n",
       "  <thead>\n",
       "    <tr style=\"text-align: right;\">\n",
       "      <th></th>\n",
       "      <th>algo</th>\n",
       "      <th>item_name</th>\n",
       "      <th>input_movie_path</th>\n",
       "      <th>params</th>\n",
       "      <th>outputs</th>\n",
       "      <th>added_time</th>\n",
       "      <th>ran_time</th>\n",
       "      <th>algo_duration</th>\n",
       "      <th>comments</th>\n",
       "      <th>uuid</th>\n",
       "    </tr>\n",
       "  </thead>\n",
       "  <tbody>\n",
       "    <tr>\n",
       "      <th>2</th>\n",
       "      <td>cnmf</td>\n",
       "      <td>20220508_rec1</td>\n",
       "      <td>5f27d28b-dc0d-4077-a924-9c1cf901bdfd/5f27d28b-...</td>\n",
       "      <td>{'main': {'fr': 30, 'p': 1, 'nb': 2, 'merge_th...</td>\n",
       "      <td>{'mean-projection-path': 9a824155-9c25-407d-aa...</td>\n",
       "      <td>2023-02-01T19:42:28</td>\n",
       "      <td>2023-02-01T20:41:48</td>\n",
       "      <td>3543.86 sec</td>\n",
       "      <td>None</td>\n",
       "      <td>9a824155-9c25-407d-aa7d-bbc9ccbb584e</td>\n",
       "    </tr>\n",
       "  </tbody>\n",
       "</table>\n",
       "</div>"
      ],
      "text/plain": [
       "   algo      item_name                                   input_movie_path  \\\n",
       "2  cnmf  20220508_rec1  5f27d28b-dc0d-4077-a924-9c1cf901bdfd/5f27d28b-...   \n",
       "\n",
       "                                              params  \\\n",
       "2  {'main': {'fr': 30, 'p': 1, 'nb': 2, 'merge_th...   \n",
       "\n",
       "                                             outputs           added_time  \\\n",
       "2  {'mean-projection-path': 9a824155-9c25-407d-aa...  2023-02-01T19:42:28   \n",
       "\n",
       "              ran_time algo_duration comments  \\\n",
       "2  2023-02-01T20:41:48   3543.86 sec     None   \n",
       "\n",
       "                                   uuid  \n",
       "2  9a824155-9c25-407d-aa7d-bbc9ccbb584e  "
      ]
     },
     "execution_count": 13,
     "metadata": {},
     "output_type": "execute_result"
    }
   ],
   "source": [
    "#visualize added item\n",
    "df.tail(1)"
   ]
  },
  {
   "cell_type": "markdown",
   "id": "affecba1-a33c-4f47-8876-92e54da50c19",
   "metadata": {},
   "source": [
    "# Run given rows"
   ]
  },
  {
   "cell_type": "code",
   "execution_count": null,
   "id": "f79ed968-e569-40f2-b618-684dbf6cea7e",
   "metadata": {},
   "outputs": [],
   "source": [
    "rows_to_run = []\n",
    "\n",
    "for i in rows_to_run:\n",
    "    row = df.iloc[i]\n",
    "    print(f'RUNNING {row['algo']} on item: {row['item_name']}')\n",
    "    process = row.caiman.run()\n",
    "\n",
    "print('DONE')\n",
    "\n",
    "df = df.caiman.reload_from_disk()\n",
    "print('RUNNING OUTCOMES:')\n",
    "for i in rows_to_run:\n",
    "    row = df.iloc[i]\n",
    "    print(f'{row[\"item_name\"]}:{row[\"outputs\"][\"success\"]'}\n"
   ]
  }
 ],
 "metadata": {
  "kernelspec": {
   "display_name": "Python 3 (ipykernel)",
   "language": "python",
   "name": "python3"
  },
  "language_info": {
   "codemirror_mode": {
    "name": "ipython",
    "version": 3
   },
   "file_extension": ".py",
   "mimetype": "text/x-python",
   "name": "python",
   "nbconvert_exporter": "python",
   "pygments_lexer": "ipython3",
   "version": "3.10.8"
  }
 },
 "nbformat": 4,
 "nbformat_minor": 5
}
