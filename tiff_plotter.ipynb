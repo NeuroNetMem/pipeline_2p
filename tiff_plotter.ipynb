{
 "cells": [
  {
   "cell_type": "code",
   "execution_count": 3,
   "id": "54ca50d7-bbc1-4376-85f2-624b95c21642",
   "metadata": {},
   "outputs": [],
   "source": [
    "import caiman as cm\n",
    "import glob\n",
    "import gc\n",
    "import numpy as np\n",
    "import matplotlib.pyplot as plt\n",
    "from caiman.source_extraction.cnmf.cnmf import load_CNMF\n",
    "from pathlib import Path\n",
    "import pickle\n",
    "import mesmerize_core as ms\n"
   ]
  },
  {
   "cell_type": "markdown",
   "id": "5938b27b-5651-4107-a052-0a9c6ff781ef",
   "metadata": {},
   "source": [
    "# Lazy load tiff"
   ]
  },
  {
   "cell_type": "code",
   "execution_count": 5,
   "id": "b73f145f-291d-463f-96ca-df74cbbe690d",
   "metadata": {},
   "outputs": [],
   "source": [
    "# chose session\n",
    "animal = 0\n",
    "date = 0\n",
    "\n",
    "data_path = Path(\"/ceph/imaging1/arie/429420_toms/20230210_429420\")"
   ]
  },
  {
   "cell_type": "code",
   "execution_count": 9,
   "id": "a0a194be-0dbf-4d67-ba36-8ead6cf7f664",
   "metadata": {},
   "outputs": [],
   "source": [
    "tif_file = glob.glob(str(data_path)+'/*.tif')[0]"
   ]
  },
  {
   "cell_type": "code",
   "execution_count": 14,
   "id": "009bff61-3d73-436b-9009-20a79820a273",
   "metadata": {},
   "outputs": [
    {
     "data": {
      "text/plain": [
       "'/ceph/imaging1/arie/429420_toms/20230210_429420/20230210_429420_00001.tif'"
      ]
     },
     "execution_count": 14,
     "metadata": {},
     "output_type": "execute_result"
    }
   ],
   "source": [
    "tif_file"
   ]
  },
  {
   "cell_type": "code",
   "execution_count": 13,
   "id": "bb162c9e-0ea1-4937-a6f7-286b1f684d90",
   "metadata": {},
   "outputs": [
    {
     "ename": "ValueError",
     "evalue": "image data are not memory-mappable",
     "output_type": "error",
     "traceback": [
      "\u001b[0;31m---------------------------------------------------------------------------\u001b[0m",
      "\u001b[0;31mValueError\u001b[0m                                Traceback (most recent call last)",
      "Cell \u001b[0;32mIn[13], line 3\u001b[0m\n\u001b[1;32m      1\u001b[0m \u001b[38;5;28;01mimport\u001b[39;00m \u001b[38;5;21;01mtifffile\u001b[39;00m\n\u001b[0;32m----> 3\u001b[0m movie \u001b[38;5;241m=\u001b[39m \u001b[43mtifffile\u001b[49m\u001b[38;5;241;43m.\u001b[39;49m\u001b[43mmemmap\u001b[49m\u001b[43m(\u001b[49m\u001b[43mtif_file\u001b[49m\u001b[43m)\u001b[49m\n",
      "File \u001b[0;32m/scratch/dspalla/mambaforge/envs/mescore/lib/python3.10/site-packages/tifffile/tifffile.py:1350\u001b[0m, in \u001b[0;36mmemmap\u001b[0;34m(filename, shape, dtype, page, series, level, mode, **kwargs)\u001b[0m\n\u001b[1;32m   1348\u001b[0m tiffseries \u001b[38;5;241m=\u001b[39m tif\u001b[38;5;241m.\u001b[39mseries[series]\u001b[38;5;241m.\u001b[39mlevels[level]\n\u001b[1;32m   1349\u001b[0m \u001b[38;5;28;01mif\u001b[39;00m tiffseries\u001b[38;5;241m.\u001b[39mdataoffset \u001b[38;5;129;01mis\u001b[39;00m \u001b[38;5;28;01mNone\u001b[39;00m:\n\u001b[0;32m-> 1350\u001b[0m     \u001b[38;5;28;01mraise\u001b[39;00m \u001b[38;5;167;01mValueError\u001b[39;00m(\u001b[38;5;124m'\u001b[39m\u001b[38;5;124mimage data are not memory-mappable\u001b[39m\u001b[38;5;124m'\u001b[39m)\n\u001b[1;32m   1351\u001b[0m shape \u001b[38;5;241m=\u001b[39m tiffseries\u001b[38;5;241m.\u001b[39mshape\n\u001b[1;32m   1352\u001b[0m dtype \u001b[38;5;241m=\u001b[39m tiffseries\u001b[38;5;241m.\u001b[39mdtype\n",
      "\u001b[0;31mValueError\u001b[0m: image data are not memory-mappable"
     ]
    }
   ],
   "source": [
    "import tifffile\n",
    "movie = tifffile.memmap(tif_file)"
   ]
  },
  {
   "cell_type": "markdown",
   "id": "9bc0cc24-2ebb-4d16-a942-94859c16fbe2",
   "metadata": {},
   "source": [
    "# Interactive visualization"
   ]
  },
  {
   "cell_type": "code",
   "execution_count": null,
   "id": "69c0c24e-5ea6-45a5-a097-1d2218b7913e",
   "metadata": {},
   "outputs": [],
   "source": [
    "# make an image widget\n",
    "from fastplotlib import ImageWidget, Plot, GridPlot\n",
    "from ipywidgets import VBox, IntSlider, Layout\n",
    "\n",
    "movies = [cropped_movie,mcorr_movie]\n",
    "\n",
    "iw = ImageWidget(\n",
    "    movies, \n",
    "    window_funcs={\"t\": (np.mean, 100)},\n",
    "    vmin_vmax_sliders=True,\n",
    "    cmap=\"jet\"\n",
    ")\n",
    "\n",
    "iw.show()"
   ]
  },
  {
   "cell_type": "markdown",
   "id": "9463c988-3e04-4861-93e1-a5ac7fb79538",
   "metadata": {},
   "source": [
    "# Compute and display metrics"
   ]
  },
  {
   "cell_type": "code",
   "execution_count": null,
   "id": "64435208-2b18-4b10-a5a0-cec27e66e82b",
   "metadata": {},
   "outputs": [],
   "source": []
  }
 ],
 "metadata": {
  "kernelspec": {
   "display_name": "Python 3 (ipykernel)",
   "language": "python",
   "name": "python3"
  },
  "language_info": {
   "codemirror_mode": {
    "name": "ipython",
    "version": 3
   },
   "file_extension": ".py",
   "mimetype": "text/x-python",
   "name": "python",
   "nbconvert_exporter": "python",
   "pygments_lexer": "ipython3",
   "version": "3.10.9"
  }
 },
 "nbformat": 4,
 "nbformat_minor": 5
}
