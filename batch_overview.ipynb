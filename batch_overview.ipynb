{
 "cells": [
  {
   "cell_type": "code",
   "execution_count": 51,
   "id": "a8d68c8f-9274-4d85-9ecd-a53ed4ffe135",
   "metadata": {},
   "outputs": [],
   "source": [
    "import pickle\n",
    "from caiman.utils import visualization\n",
    "from caiman.source_extraction.cnmf.cnmf import load_CNMF\n",
    "from pathlib import Path\n",
    "import numpy as np\n",
    "import pandas as pd\n",
    "\n",
    "from matplotlib import pyplot as plt\n",
    "import seaborn as sns\n",
    "from tqdm import tqdm"
   ]
  },
  {
   "cell_type": "markdown",
   "id": "d9cfdec3-443b-490c-b3d9-059fdeaffb33",
   "metadata": {},
   "source": [
    "# Batch overview\n",
    "This notebook reads the results from a batch of preprocessed session and displays statistics and information about them. It can be used to asses the quailty of the preprocessing and pinpoint sessions that need a change in parameters or are not viable for analysis."
   ]
  },
  {
   "cell_type": "markdown",
   "id": "28af5289-ff48-436e-901c-841a6ef5bb03",
   "metadata": {},
   "source": [
    "## Load data"
   ]
  },
  {
   "cell_type": "code",
   "execution_count": 98,
   "id": "d11b9ac5-b948-45fb-8162-abb5ca7ffa99",
   "metadata": {},
   "outputs": [],
   "source": [
    "data_path = Path(\"/ceph/imaging1/davide/2p_data\")\n",
    "sessions = {'441406_fiano':['20230301','20230306','20230307','20230308','20230309','20230315','20230316','20230317','20230320','20230321',\n",
    "                           '20230323','20230324','20230328','20230330','2023031'],\n",
    "            #'441394_ribolla':['20230301','20230306','20230307','20230308','20230309','20230315','20230316','20230317','20230320','20230321']\n",
    "           }\n"
   ]
  },
  {
   "cell_type": "code",
   "execution_count": 99,
   "id": "d1df6031-2dad-4d75-aaae-ca2ef478dd24",
   "metadata": {},
   "outputs": [
    {
     "name": "stdout",
     "output_type": "stream",
     "text": [
      "reading data for animal 441406_fiano ...\n"
     ]
    },
    {
     "name": "stderr",
     "output_type": "stream",
     "text": [
      "100%|██████████████████████████████████████████| 15/15 [00:17<00:00,  1.18s/it]"
     ]
    },
    {
     "name": "stdout",
     "output_type": "stream",
     "text": [
      "Session 441406_fiano/2023031 not preprocesses, skipping\n"
     ]
    },
    {
     "name": "stderr",
     "output_type": "stream",
     "text": [
      "\n"
     ]
    }
   ],
   "source": [
    "data = {'animal':[],'date':[],'n_cells':[]}\n",
    "mean_imgs = []\n",
    "corr_imgs = []\n",
    "neural_data = []\n",
    "\n",
    "\n",
    "for animal in sessions.keys():\n",
    "    print(f'reading data for animal {animal} ...')\n",
    "    for date in tqdm(sessions[animal]):\n",
    "        try:\n",
    "            with open(data_path.joinpath(f'{animal}/{date}/neural_data.pickle'),'rb') as pfile:\n",
    "                n_data = pickle.load(pfile)\n",
    "                neural_data.append(n_data)\n",
    "            with open(data_path.joinpath(f'{animal}/{date}/metrics.pickle'),'rb') as pfile:\n",
    "                metrics = pickle.load(pfile)\n",
    "            mean_imgs.append(np.asarray(metrics['mean_image']))\n",
    "            corr_imgs.append(np.asarray(metrics['corr_image']))\n",
    "\n",
    "            data['animal'].append(animal)\n",
    "            data['date'].append(date)\n",
    "            data['n_cells'].append(len(n_data['traces']))\n",
    "        \n",
    "        except FileNotFoundError:\n",
    "            print(f'Session {animal}/{date} not preprocesses, skipping')\n",
    "            continue\n",
    "        \n",
    "data = pd.DataFrame(data)\n"
   ]
  },
  {
   "cell_type": "markdown",
   "id": "7d3a155b-f4e5-441a-aa91-159049071aed",
   "metadata": {},
   "source": [
    "## Metrics overview"
   ]
  },
  {
   "cell_type": "code",
   "execution_count": 104,
   "id": "cdee7d67-b4cd-4bbb-b1fe-61354ae97c4c",
   "metadata": {},
   "outputs": [],
   "source": [
    "def plot_metrics(i):\n",
    "    plt.figure(figsize=(10,5))\n",
    "    \n",
    "    plt.subplot(1,2,1)\n",
    "    plt.title(f'animal: {data.animal.values[i]}, date : {data.date.values[i]}')\n",
    "    x = mean_imgs[i]\n",
    "    plt.imshow(x,vmin=np.percentile(x.ravel(),0.05),vmax=np.percentile(x.ravel(),99.95),cmap=plt.cm.gnuplot2)\n",
    "    contours = neural_data[i]['contour']\n",
    "    for c in contours:\n",
    "        plt.plot(*c.T, c='w')\n",
    "    \n",
    "    plt.subplot(1,2,2)\n",
    "    plt.title(f'number of cells: {data.n_cells.values[i]}')\n",
    "    x = corr_imgs[i]\n",
    "    plt.imshow(x,vmin=np.percentile(x.ravel(),3),vmax=np.percentile(x.ravel(),97),cmap=plt.cm.gnuplot2)\n",
    "    for c in contours:\n",
    "        plt.plot(*c.T, c='w')\n",
    "    \n",
    "    \n",
    "    "
   ]
  },
  {
   "cell_type": "code",
   "execution_count": 105,
   "id": "b756eec3-10ff-4357-ae41-f67a40a579ea",
   "metadata": {},
   "outputs": [
    {
     "data": {
      "application/vnd.jupyter.widget-view+json": {
       "model_id": "afe1db93e57d4d259220bf353814c807",
       "version_major": 2,
       "version_minor": 0
      },
      "text/plain": [
       "interactive(children=(IntSlider(value=0, description='i', max=14), Output()), _dom_classes=('widget-interact',…"
      ]
     },
     "metadata": {},
     "output_type": "display_data"
    },
    {
     "data": {
      "text/plain": [
       "<function __main__.plot_metrics(i)>"
      ]
     },
     "execution_count": 105,
     "metadata": {},
     "output_type": "execute_result"
    }
   ],
   "source": [
    "from ipywidgets import interact\n",
    "import ipywidgets as widgets\n",
    "interact(plot_metrics, i = widgets.IntSlider(min=0, max=len(mean_imgs), value=0))"
   ]
  },
  {
   "cell_type": "markdown",
   "id": "5bd223e4-823d-4c7d-8ff0-82e7d48119dd",
   "metadata": {},
   "source": [
    "## Number of detected cells"
   ]
  },
  {
   "cell_type": "code",
   "execution_count": 100,
   "id": "2b18543f-d537-4932-ae3e-a4eb47db5b64",
   "metadata": {},
   "outputs": [
    {
     "data": {
      "text/plain": [
       "<Axes: xlabel='n_cells', ylabel='Count'>"
      ]
     },
     "execution_count": 100,
     "metadata": {},
     "output_type": "execute_result"
    },
    {
     "data": {
      "image/png": "[encoded data removed]",
      "text/plain": [
       "<Figure size 640x480 with 1 Axes>"
      ]
     },
     "metadata": {},
     "output_type": "display_data"
    }
   ],
   "source": [
    "sns.histplot(data=data,x='n_cells',bins=10)"
   ]
  },
  {
   "cell_type": "code",
   "execution_count": null,
   "id": "7a2fed79-e52e-4dd0-bf69-bf5b41fbe862",
   "metadata": {},
   "outputs": [],
   "source": []
  }
 ],
 "metadata": {
  "kernelspec": {
   "display_name": "Python 3 (ipykernel)",
   "language": "python",
   "name": "python3"
  },
  "language_info": {
   "codemirror_mode": {
    "name": "ipython",
    "version": 3
   },
   "file_extension": ".py",
   "mimetype": "text/x-python",
   "name": "python",
   "nbconvert_exporter": "python",
   "pygments_lexer": "ipython3",
   "version": "3.10.9"
  }
 },
 "nbformat": 4,
 "nbformat_minor": 5
}
