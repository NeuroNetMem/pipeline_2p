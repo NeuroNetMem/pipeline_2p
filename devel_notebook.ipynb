{
 "cells": [
  {
   "cell_type": "code",
   "execution_count": 3,
   "id": "c788f189",
   "metadata": {},
   "outputs": [
    {
     "ename": "ModuleNotFoundError",
     "evalue": "No module named 'caiman'",
     "output_type": "error",
     "traceback": [
      "\u001b[0;31m---------------------------------------------------------------------------\u001b[0m",
      "\u001b[0;31mModuleNotFoundError\u001b[0m                       Traceback (most recent call last)",
      "\u001b[0;32m<ipython-input-3-7edec3d81f3f>\u001b[0m in \u001b[0;36m<module>\u001b[0;34m()\u001b[0m\n\u001b[0;32m----> 1\u001b[0;31m \u001b[0;32mimport\u001b[0m \u001b[0mcaiman\u001b[0m \u001b[0;32mas\u001b[0m \u001b[0mcm\u001b[0m\u001b[0;34m\u001b[0m\u001b[0;34m\u001b[0m\u001b[0m\n\u001b[0m\u001b[1;32m      2\u001b[0m \u001b[0;32mfrom\u001b[0m \u001b[0mcaiman\u001b[0m\u001b[0;34m.\u001b[0m\u001b[0mmotion_correction\u001b[0m \u001b[0;32mimport\u001b[0m \u001b[0mMotionCorrect\u001b[0m\u001b[0;34m,\u001b[0m \u001b[0mhigh_pass_filter_space\u001b[0m\u001b[0;34m\u001b[0m\u001b[0;34m\u001b[0m\u001b[0m\n\u001b[1;32m      3\u001b[0m \u001b[0;32mfrom\u001b[0m \u001b[0mcaiman\u001b[0m\u001b[0;34m.\u001b[0m\u001b[0msource_extraction\u001b[0m\u001b[0;34m.\u001b[0m\u001b[0mcnmf\u001b[0m \u001b[0;32mimport\u001b[0m \u001b[0mparams\u001b[0m \u001b[0;32mas\u001b[0m \u001b[0mparams\u001b[0m\u001b[0;34m\u001b[0m\u001b[0;34m\u001b[0m\u001b[0m\n\u001b[1;32m      4\u001b[0m \u001b[0;34m\u001b[0m\u001b[0m\n\u001b[1;32m      5\u001b[0m \u001b[0;32mfrom\u001b[0m \u001b[0mcaiman\u001b[0m\u001b[0;34m.\u001b[0m\u001b[0msource_extraction\u001b[0m\u001b[0;34m.\u001b[0m\u001b[0mcnmf\u001b[0m \u001b[0;32mimport\u001b[0m \u001b[0mcnmf\u001b[0m\u001b[0;34m\u001b[0m\u001b[0;34m\u001b[0m\u001b[0m\n",
      "\u001b[0;31mModuleNotFoundError\u001b[0m: No module named 'caiman'"
     ]
    }
   ],
   "source": [
    "import caiman as cm\n",
    "from caiman.motion_correction import MotionCorrect, high_pass_filter_space\n",
    "from caiman.source_extraction.cnmf import params as params\n",
    "\n",
    "from caiman.source_extraction.cnmf import cnmf\n",
    "from caiman.utils.utils import download_demo\n",
    "from caiman.utils.visualization import plot_contours, nb_view_patches, nb_plot_contour\n",
    "\n",
    "import numpy as np\n",
    "import os\n",
    "import psutil\n",
    "import logging\n",
    "import matplotlib.pylab as plt"
   ]
  },
  {
   "cell_type": "code",
   "execution_count": 4,
   "metadata": {},
   "outputs": [
    {
     "data": {
      "text/plain": [
       "{'crop': {'a': 1},\n",
       " 'motion_correction': {'border_nan': 'copy',\n",
       "  'gSig_filt': [5, 5],\n",
       "  'max_deviation_rigid': 10,\n",
       "  'max_shifts': [5, 5],\n",
       "  'niter_rig': 1,\n",
       "  'nonneg_movie': 'True',\n",
       "  'num_frames_split': 80,\n",
       "  'overlaps': [96, 96],\n",
       "  'pw_rigid': 'True',\n",
       "  'save_movie_rig': 'False',\n",
       "  'shifts_opencv': 'True',\n",
       "  'strides': [48, 48],\n",
       "  'upsample_factor_grid': 2,\n",
       "  'use_cuda': 'False'},\n",
       " 'source_extraction': {'b': 1}}"
      ]
     },
     "execution_count": 4,
     "metadata": {},
     "output_type": "execute_result"
    }
   ],
   "source": [
    "data"
   ]
  },
  {
   "cell_type": "code",
   "execution_count": null,
   "metadata": {},
   "outputs": [],
   "source": []
  },
  {
   "cell_type": "code",
   "execution_count": 2,
   "metadata": {},
   "outputs": [],
   "source": [
    "def read_ScanImageTiffHeader(file_path):\n",
    "\n",
    "    '''\n",
    "    Reads header description information of ScanImageTiff File\n",
    "    input: (str) tiff file path\n",
    "    output: (list) Dictionary and list containing I2C events information and frame timestamps \n",
    "    \n",
    "    '''\n",
    "    frameTs = []\n",
    "    i2c_timestamp = []\n",
    "    i2c_values = []\n",
    "    i2c_frameN = []\n",
    "\n",
    "    with ScanImageTiffReader(file_path) as reader:\n",
    "        time = reader.shape()[0]\n",
    "        for frame in range(time):\n",
    "            x = reader.description(frame)\n",
    "            description = x.split('\\n')\n",
    "            frameTs.append(float(description[3].split('=')[1]))\n",
    "            i2c= description[14].split('=')\n",
    "            if len(i2c[1])>3:\n",
    "                y = i2c[1].split('{{')[1].split(']}')\n",
    "                if len(y)==1:\n",
    "                    i2c_timestamp.append(float(y[events].split(',')[0]))\n",
    "                    i2c_values.append(int(y[events].split('[')[1]))\n",
    "                    i2c_frameN.append(frame)\n",
    "                else: \n",
    "                    i2c_timestamp.append(float(y[0].split(',')[0]))\n",
    "                    i2c_values.append(int(y[0].split('[')[1].split(',')[0]))\n",
    "                    i2c_frameN.append(frame)\n",
    "                    for events in range(1,len(y)-1):\n",
    "                        i2c_timestamp.append(float(y[events].split(',')[0].split('{')[1]))\n",
    "                        i2c_values.append(int(y[events].split('[')[1].split(',')[0]))\n",
    "                        i2c_frameN.append(frame)\n",
    "                        \n",
    "    I2C = {\"ts\":i2c_timestamp, \"val\":i2c_values, \"frameNum\":i2c_frameN}\n",
    "    return I2C, frameTs\n",
    "\n",
    "\n",
    "def unpack_data_packet(dp,DataPacketStruct,DataPacket):\n",
    "    s = struct.unpack(DataPacketStruct, dp)\n",
    "    up = DataPacket(type=s[0], size=s[1], crc16=s[2], packetID=s[3], us_start=s[4], us_end=s[5],\n",
    "                    analog=s[6:14], states=s[14:22], digitalIn=s[22], digitalOut=s[23], padding=None)\n",
    "    return up\n",
    "\n",
    "def count_lines(fp):\n",
    "    # function to count the packet number\n",
    "    def _make_gen(reader):\n",
    "        b = reader(2**16)\n",
    "        while b:\n",
    "            yield b\n",
    "            b = reader(2**16)\n",
    "    with open(fp, 'rb') as f:\n",
    "        count = sum(buf.count(b'\\n') for buf in _make_gen(f.raw.read))\n",
    "    return count\n",
    "\n",
    "\n",
    "def create_bp_structure(bp):\n",
    "    # Format package\n",
    "    DataPacketDesc = {'type': 'B',\n",
    "                      'size': 'B',\n",
    "                      'crc16': 'H',\n",
    "                      'packetID': 'I',\n",
    "                      'us_start': 'I',\n",
    "                      'us_end': 'I',\n",
    "                      'analog': '8H',\n",
    "                      'states': '8l',\n",
    "                      'digitalIn': 'H',\n",
    "                      'digitalOut': 'B',\n",
    "                      'padding': 'x'}\n",
    "\n",
    "    DataPacket = namedtuple('DataPacket', DataPacketDesc.keys())\n",
    "    DataPacketStruct = '<' + ''.join(DataPacketDesc.values())\n",
    "    DataPacketSize = struct.calcsize(DataPacketStruct)\n",
    "\n",
    "    # package with non-digital data\n",
    "    dtype_no_digital = [\n",
    "        ('type', np.uint8),\n",
    "        ('size', np.uint8),\n",
    "        ('crc16', np.uint16),\n",
    "        ('packetID', np.uint32),\n",
    "        ('us_start', np.uint32),\n",
    "        ('us_end', np.uint32),\n",
    "        ('analog', np.uint16, (8, )),\n",
    "        ('states', np.uint32, (8, ))]\n",
    "\n",
    "    # DigitalIn and DigitalOut\n",
    "    dtype_w_digital = dtype_no_digital + [('digital_in', np.uint16, (16, )), ('digital_out', np.uint8, (8, ))]\n",
    "\n",
    "    # Creating array with all the data (differenciation digital/non digital)\n",
    "    np_DataPacketType_noDigital = np.dtype(dtype_no_digital)\n",
    "    np_DataPacketType_withDigital = np.dtype(dtype_w_digital)\n",
    "    # Unpack the data as done on the teensy commander code\n",
    "    num_lines = count_lines(bp)\n",
    "    log_duration = num_lines/1000/60\n",
    "\n",
    "    # Decode and create new dataset\n",
    "    data = np.zeros(num_lines, dtype=np_DataPacketType_withDigital)\n",
    "    non_digital_names = list(np_DataPacketType_noDigital.names)\n",
    "\n",
    "    with open(bp, 'rb') as bf:\n",
    "        for nline, line in enumerate(tqdm(bf, total=num_lines)):\n",
    "            bl = cobs.decode(base64.b64decode(line[:-1])[:-1])\n",
    "            dp = unpack_data_packet(bl,DataPacketStruct,DataPacket)\n",
    "\n",
    "            data[non_digital_names][nline] = np.frombuffer(bl[:-4], dtype=np_DataPacketType_noDigital)\n",
    "            digital_arr = np.frombuffer(bl[-4:], dtype=np.uint8)\n",
    "            data[nline]['digital_in'] = np.hstack([np.unpackbits(digital_arr[1]), np.unpackbits(digital_arr[0])])\n",
    "            data[nline]['digital_out'] = np.unpackbits(np.array(digital_arr[2], dtype=np.uint8))\n",
    "        #Check for packetID jumps\n",
    "    jumps = np.unique(np.diff(data['packetID']))\n",
    "    decoded = {\"analog\":data['analog'], \"digitalIn\":data['digital_in'], \"digitalOut\":data['digital_out'], \"startTS\":data['us_start'], \"transmitTS\":data['us_end'], \"longVar\":data['states'], \"packetNums\":data['packetID']}\n",
    "\n",
    "    return decoded"
   ]
  },
  {
   "cell_type": "code",
   "execution_count": 3,
   "metadata": {},
   "outputs": [
    {
     "data": {
      "application/vnd.jupyter.widget-view+json": {
       "model_id": "1349768d764c44b0a235a120a42575b2",
       "version_major": 2,
       "version_minor": 0
      },
      "text/plain": [
       "  0%|          | 0/1762320 [00:00<?, ?it/s]"
      ]
     },
     "metadata": {},
     "output_type": "display_data"
    }
   ],
   "source": [
    "# ### Define scan image path\n",
    "scan_image_path = '/home/melisamc/Documentos/acc_2p_analysis/data/'\n",
    "scan_file = '20220308_Nike_audseq_00001.tif'\n",
    "### Define log file path\n",
    "log_file_path = '/home/melisamc/Documentos/acc_2p_analysis/logfiles/'\n",
    "log_file = '20221201-102828_264.b64'\n",
    "### get IC2 events\n",
    "[I2C, frameTs] = read_ScanImageTiffHeader(scan_image_path + scan_file)\n",
    "### get decoded log file information\n",
    "decoded = create_bp_structure(log_file_path + log_file)"
   ]
  },
  {
   "cell_type": "code",
   "execution_count": 387,
   "metadata": {},
   "outputs": [],
   "source": [
    "packet = decoded\n",
    "def read_digitals(digitalIn,labelsIn):\n",
    "    nChan = digitalIn.shape[1]\n",
    "    onset = []\n",
    "    offset = []\n",
    "\n",
    "    for chan in range(nChan):\n",
    "        diffChan = np.diff(digitalIn[:,chan])\n",
    "        onset.append(np.where(diffChan==1)[0]+1)\n",
    "        offset.append(np.where(diffChan==-1)[0])\n",
    "\n",
    "    digIn = {'onset':onset,'offset':offset,'labels':labels}\n",
    "    return digIn\n",
    "\n",
    "def polarity_index(digIn):\n",
    "    #### We need to check polarity, we can change the method later\n",
    "    nChan = len(digIn['onset'])\n",
    "    pol_index = np.zeros((nChan,))\n",
    "    \n",
    "    for n in range(nChan):\n",
    "        nOn = len(digIn['onset'][n])\n",
    "        nOff = len(digIn['offset'][n])\n",
    "        nevents = min(nOn,nOff)\n",
    "        \n",
    "        if nevents !=0:\n",
    "            medianFor = np.median(digIn['offset'][n][0:nevents]-digIn['onset'][n][0:nevents])\n",
    "            medianBack = np.median(digIn['onset'][n][1:nevents]-digIn['offset'][n][0:nevents-1])\n",
    "            if medianBack < medianFor:\n",
    "                pol_index[n] = 1\n",
    "                \n",
    "    force_pol_index = np.ones((nChan,))\n",
    "    force_pol_index[2]= 0\n",
    "    force_pol_index[3]= 0\n",
    "    force_pol_index[6]= 0\n",
    "    force_pol_index[7]= 0\n",
    "    pol_index = pol_index * force_pol_index\n",
    "\n",
    "    return pol_index\n",
    "\n",
    "def change_polarity(digIn,polarity):\n",
    "    \n",
    "    new_digIn_onset = []\n",
    "    new_digIn_offset = []\n",
    "    nChan = len(digIn['onset'])\n",
    "    for n in range(nChan):\n",
    "        if polarity[n] == 1:\n",
    "            new_digIn_onset.append(digIn['offset'][n])\n",
    "            new_digIn_offset.append(digIn['onset'][n])\n",
    "        else:\n",
    "            new_digIn_onset.append(digIn['onset'][n])\n",
    "            new_digIn_offset.append(digIn['offset'][n])\n",
    "\n",
    "    digIn['onset'] = new_digIn_onset\n",
    "    digIn['offset'] = new_digIn_offset\n",
    "    \n",
    "    return digIn"
   ]
  },
  {
   "cell_type": "code",
   "execution_count": 436,
   "metadata": {},
   "outputs": [],
   "source": [
    "digitalIn = packet['digitalIn'].astype(int)\n",
    "digitalIn = np.flip(digitalIn,axis =1)\n",
    "digitalOut = packet['digitalOut'].astype(int)\n",
    "digitalOut = np.flip(digitalOut,axis =1)\n",
    "\n",
    "###Pay attention because labels will change, this is under development\n",
    "### Read digital In and Out\n",
    "labelsIn = ['empty','empty','wheelA','wheelB','wheelC','IR_camera','scanner',\n",
    "             'sound','???','reward_zone','environment1','environment2','environment3_broken',\n",
    "             'tunnel1','tunnel2','environment3']\n",
    "labelsOut = ['valve','empty','IR_LED_sync','empty','barcode','IR_LED','lick','empty']\n",
    "digIn = read_digitals(digitalIn, labelsIn)\n",
    "digOut = read_digitals(digitalOut,labelsOut)\n",
    "\n",
    "### Check channel polarity (inverted or non inverted channels)\n",
    "polarity = polarity_index(digIn)"
   ]
  },
  {
   "cell_type": "code",
   "execution_count": null,
   "metadata": {},
   "outputs": [],
   "source": []
  },
  {
   "cell_type": "code",
   "execution_count": 437,
   "metadata": {},
   "outputs": [],
   "source": [
    "### Trials definition\n",
    "# A trial will be define as one if there is a reward zone onset in between\n",
    "\n",
    "# Check first onset to be correct, that means being before the first offset\n",
    "# Define environment 1 start times in env1St\n",
    "first_onset = digIn['onset'][10][0]\n",
    "first_offset = digIn['offset'][10][0]\n",
    "\n",
    "digIn = change_polarity(digIn,polarity)\n",
    "\n",
    "first_onset = digIn['onset'][10][0]\n",
    "first_offset = digIn['offset'][10][0]\n",
    "\n",
    "if first_onset > first_offset:\n",
    "    env1St = np.zeros((len(digIn['onset'][10])+1,)).astype(int)\n",
    "    env1St[0] = 1\n",
    "    env1St[1:]= digIn['onset'][10]\n",
    "else:\n",
    "    env1St = digIn['onset'][10]\n",
    "    \n",
    "env2St = digIn['onset'][11]    \n",
    "env3St = digIn['onset'][15]   "
   ]
  },
  {
   "cell_type": "code",
   "execution_count": 438,
   "metadata": {},
   "outputs": [
    {
     "data": {
      "text/plain": [
       "23166"
      ]
     },
     "execution_count": 438,
     "metadata": {},
     "output_type": "execute_result"
    }
   ],
   "source": [
    "digIn['onset'][10][0]"
   ]
  },
  {
   "cell_type": "code",
   "execution_count": 439,
   "metadata": {},
   "outputs": [],
   "source": [
    "### sort events and id events\n",
    "n_events = len(env1St) + len(env2St) + len(env3St)\n",
    "events_id = np.zeros((n_events,))\n",
    "events_time = np.zeros((n_events,))\n",
    "events_id[0:len(env1St)] = 1\n",
    "events_time[0:len(env1St)] = env1St\n",
    "events_id[len(env1St):len(env1St) + len(env2St)] = 2\n",
    "events_time[len(env1St):len(env1St) + len(env2St)] = env2St\n",
    "events_id[len(env1St) + len(env2St):] = 3\n",
    "events_time[len(env1St) + len(env2St):] = env3St\n",
    "sorted_index = np.argsort(events_time)\n",
    "sorted_events_id = events_id[sorted_index].astype(int)\n",
    "sorted_events_time = events_time[sorted_index]"
   ]
  },
  {
   "cell_type": "code",
   "execution_count": null,
   "metadata": {},
   "outputs": [],
   "source": []
  },
  {
   "cell_type": "code",
   "execution_count": 440,
   "metadata": {},
   "outputs": [],
   "source": [
    "#### make sure that there is a reward zone between all trial start\n",
    "rewZonSt = digIn['onset'][9]\n",
    "bins_edge = np.zeros((n_events+1,))\n",
    "bins_edge[:-1] = sorted_events_time\n",
    "bins_edge[-1] = np.max(sorted_events_time)+100000\n",
    "env_with_RewZone = np.where(np.histogram(rewZonSt,bins_edge)[0])[0]\n",
    "\n",
    "###redefine trial onset, Id and number of trials\n",
    "trialOn = bins_edge[env_with_RewZone][0:11].astype(int)\n",
    "trialId = sorted_events_id[env_with_RewZone][0:11].astype(int)\n",
    "nTrials = 11#len(trialSt)"
   ]
  },
  {
   "cell_type": "code",
   "execution_count": 441,
   "metadata": {},
   "outputs": [
    {
     "data": {
      "text/plain": [
       "array([  23166,   67044,  293577,  507349,  549415,  607919,  848080,\n",
       "        943346, 1057283, 1094172, 1134334])"
      ]
     },
     "execution_count": 441,
     "metadata": {},
     "output_type": "execute_result"
    }
   ],
   "source": [
    "trialOn"
   ]
  },
  {
   "cell_type": "code",
   "execution_count": 479,
   "metadata": {},
   "outputs": [],
   "source": [
    "### Now we construct the trial info matrix\n",
    "# % 1 env onset\n",
    "# % 2 env id\n",
    "# % 3 sound onset\n",
    "# % 4 sound offset\n",
    "# % 5 tunnel1 onset\n",
    "# % 6 rewZone onset\n",
    "# % 7 reward delivery\n",
    "# % 8 tunnel2 onset\n",
    "# % 9 tunnel2 offset\n",
    "# % 10 trial duration\n",
    "\n",
    "trialInfoLables = []\n",
    "\n",
    "InfoEntrySize = 10\n",
    "### Environment Start\n",
    "trialInfo = np.zeros((nTrials,InfoEntrySize))\n",
    "trialInfo[:,0] = trialOn[0:nTrials]\n",
    "trialInfoLables.append('environmentStart')\n",
    "### Environment ID\n",
    "trialInfo[:,1] = trialId[0:nTrials]\n",
    "trialInfoLables.append('environmentId')"
   ]
  },
  {
   "cell_type": "code",
   "execution_count": null,
   "metadata": {},
   "outputs": [],
   "source": []
  },
  {
   "cell_type": "code",
   "execution_count": 486,
   "metadata": {},
   "outputs": [
    {
     "ename": "IndexError",
     "evalue": "index 9 is out of bounds for axis 0 with size 7",
     "output_type": "error",
     "traceback": [
      "\u001b[0;31m---------------------------------------------------------------------------\u001b[0m",
      "\u001b[0;31mIndexError\u001b[0m                                Traceback (most recent call last)",
      "\u001b[0;32m/tmp/ipykernel_14673/3312500992.py\u001b[0m in \u001b[0;36m<module>\u001b[0;34m\u001b[0m\n\u001b[1;32m     22\u001b[0m \u001b[0mtrial_with_sound\u001b[0m \u001b[0;34m=\u001b[0m \u001b[0;34m(\u001b[0m\u001b[0mnp\u001b[0m\u001b[0;34m.\u001b[0m\u001b[0mwhere\u001b[0m\u001b[0;34m(\u001b[0m\u001b[0mn_sounds_in_trial\u001b[0m\u001b[0;34m)\u001b[0m\u001b[0;34m[\u001b[0m\u001b[0;36m0\u001b[0m\u001b[0;34m]\u001b[0m\u001b[0;34m/\u001b[0m\u001b[0;36m2\u001b[0m\u001b[0;34m)\u001b[0m\u001b[0;34m.\u001b[0m\u001b[0mastype\u001b[0m\u001b[0;34m(\u001b[0m\u001b[0mint\u001b[0m\u001b[0;34m)\u001b[0m\u001b[0;34m\u001b[0m\u001b[0;34m\u001b[0m\u001b[0m\n\u001b[1;32m     23\u001b[0m \u001b[0;31m#trial_with_sound_index = np.where(n_sounds_in_trial)[0]\u001b[0m\u001b[0;34m\u001b[0m\u001b[0;34m\u001b[0m\u001b[0m\n\u001b[0;32m---> 24\u001b[0;31m \u001b[0mtrialInfo\u001b[0m\u001b[0;34m[\u001b[0m\u001b[0mtrial_with_sound\u001b[0m\u001b[0;34m,\u001b[0m\u001b[0;36m2\u001b[0m\u001b[0;34m]\u001b[0m \u001b[0;34m=\u001b[0m \u001b[0mSoundOnset\u001b[0m\u001b[0;34m[\u001b[0m\u001b[0mtrial_with_sound\u001b[0m\u001b[0;34m]\u001b[0m\u001b[0;34m\u001b[0m\u001b[0;34m\u001b[0m\u001b[0m\n\u001b[0m",
      "\u001b[0;31mIndexError\u001b[0m: index 9 is out of bounds for axis 0 with size 7"
     ]
    }
   ],
   "source": [
    "### Tunnel Onset \n",
    "tun1St = digIn['onset'][13][0:nTrials]\n",
    "bins_edge = np.zeros((nTrials+1,))\n",
    "bins_edge[:-1] = trialOn\n",
    "bins_edge[-1] = np.max(trialOn)+100000\n",
    "tun1St = tun1St[np.where(tun1St > bins_edge[0])]\n",
    "[n_tun_in_trial,new_bins] = np.histogram(tun1St,bins_edge)\n",
    "tun1St_ = np.zeros((nTrials,))\n",
    "tun1St_[np.where(n_tun_in_trial)[0]] = tun1St\n",
    "index_with_tunnel = np.where(n_tun_in_trial > 0)\n",
    "index_with_one_tunnel = np.unique(index_with_tunnel)\n",
    "trialInfo[index_with_one_tunnel,4] = tun1St_[index_with_one_tunnel] \n",
    "trialInfoLables.append('tunnel1Start')\n",
    "\n",
    "### Sound Onset\n",
    "SoundOnset = digIn['onset'][7][0:7]\n",
    "temp = np.sort(trialInfo[:,[0,4]].flatten())\n",
    "bins_edge = np.zeros((len(temp)+1,))\n",
    "bins_edge[:-1] = temp\n",
    "bins_edge[-1] = temp[-1] + 10000000000\n",
    "[n_sounds_in_trial,new_bins] = np.histogram(SoundOnset,bins_edge)\n",
    "trial_with_sound = (np.where(n_sounds_in_trial)[0]/2).astype(int)\n",
    "#trial_with_sound_index = np.where(n_sounds_in_trial)[0]\n",
    "trialInfo[trial_with_sound,2] = SoundOnset[trial_with_sound]"
   ]
  },
  {
   "cell_type": "code",
   "execution_count": 487,
   "metadata": {},
   "outputs": [
    {
     "data": {
      "text/plain": [
       "array([0, 1, 3, 4, 5, 6, 9])"
      ]
     },
     "execution_count": 487,
     "metadata": {},
     "output_type": "execute_result"
    }
   ],
   "source": [
    "trial_with_sound"
   ]
  },
  {
   "cell_type": "code",
   "execution_count": 489,
   "metadata": {},
   "outputs": [
    {
     "data": {
      "text/plain": [
       "(23,)"
      ]
     },
     "execution_count": 489,
     "metadata": {},
     "output_type": "execute_result"
    }
   ],
   "source": [
    "new_bins.shape"
   ]
  },
  {
   "cell_type": "code",
   "execution_count": 161,
   "metadata": {},
   "outputs": [
    {
     "name": "stdout",
     "output_type": "stream",
     "text": [
      "20221201-102828_264\n",
      "Number of frames: (22986,)\n",
      "Mean Scanner time per frame: 0.03339563007004569\n"
     ]
    }
   ],
   "source": [
    "name='20221201-102828_264'\n",
    "print(name)\n",
    "path=os.path.join(log_file_path, name +'_decoded'+'.mat')\n",
    "savemat(path, decoded)\n",
    "frameTs = np.array(frameTs)\n",
    "print('Number of frames:', frameTs.shape)\n",
    "print('Mean Scanner time per frame:', np.mean(np.diff(frameTs)))"
   ]
  },
  {
   "cell_type": "code",
   "execution_count": 5,
   "metadata": {},
   "outputs": [
    {
     "name": "stdout",
     "output_type": "stream",
     "text": [
      "0\n",
      "Offset is: 293577 ms \n",
      "Offset is: 60512678 frames \n",
      "Number of frames is:  6\n",
      "Instantaneous Sampling rate is:  206122.0\n"
     ]
    }
   ],
   "source": [
    "### compute offset assuming scanner time starts in 0\n",
    "x = decoded['digitalIn'][:,0]\n",
    "print(x[1])\n",
    "x_diff = np.diff(x)\n",
    "positions = np.where(x_diff == 1)[0]+1\n",
    "what_we_want = x_diff[positions]\n",
    "\n",
    "sampling_rate_scanner = np.mean(np.diff(positions))\n",
    "offset_frames = round(positions[0]*sampling_rate_scanner/1000)\n",
    "\n",
    "print('Offset is: ' + f'{positions[0]}' + ' ms ' )\n",
    "print('Offset is: ' + f'{offset_frames}' + ' frames ')\n",
    "\n",
    "print('Number of frames is: ', len(what_we_want))\n",
    "print('Instantaneous Sampling rate is: ', sampling_rate_scanner)"
   ]
  },
  {
   "cell_type": "code",
   "execution_count": 6,
   "metadata": {},
   "outputs": [
    {
     "data": {
      "text/plain": [
       "{'analog': array([[1863,    6, 1788, ..., 2448, 2482, 2480],\n",
       "        [1856,    5, 1780, ..., 2447, 2485, 2488],\n",
       "        [1858,    4, 1788, ..., 2446, 2483, 2483],\n",
       "        ...,\n",
       "        [1852,    7, 1795, ..., 2434, 2479, 2485],\n",
       "        [1853,    8, 1783, ..., 2441, 2483, 2484],\n",
       "        [1854,    7, 1726, ..., 2437, 2481, 2468]], dtype=uint16),\n",
       " 'digitalIn': array([[0, 0, 0, ..., 0, 0, 0],\n",
       "        [0, 0, 0, ..., 0, 0, 0],\n",
       "        [0, 0, 0, ..., 0, 0, 0],\n",
       "        ...,\n",
       "        [0, 0, 0, ..., 0, 0, 0],\n",
       "        [0, 0, 0, ..., 0, 0, 0],\n",
       "        [0, 0, 0, ..., 0, 0, 0]], dtype=uint16),\n",
       " 'digitalOut': array([[0, 0, 0, ..., 0, 0, 0],\n",
       "        [0, 0, 0, ..., 0, 0, 0],\n",
       "        [0, 0, 0, ..., 0, 0, 0],\n",
       "        ...,\n",
       "        [0, 0, 0, ..., 1, 0, 0],\n",
       "        [0, 0, 0, ..., 1, 0, 0],\n",
       "        [0, 0, 0, ..., 1, 0, 0]], dtype=uint8),\n",
       " 'startTS': array([1169320555, 1169321555, 1169322555, ..., 1739426211, 1739427211,\n",
       "        1739428211], dtype=uint32),\n",
       " 'transmitTS': array([1169320740, 1169321740, 1169322740, ..., 1739426396, 1739427396,\n",
       "        1739428396], dtype=uint32),\n",
       " 'longVar': array([[1940302,  118358,       5, ...,       0,       0,     186],\n",
       "        [1940302,  118358,       4, ...,       0,       0,     186],\n",
       "        [1940302,  118358,       6, ...,       0,       0,     185],\n",
       "        ...,\n",
       "        [ 853326,   52052,       4, ...,       0,       0,     185],\n",
       "        [ 853326,   52052,       7, ...,       0,       0,     185],\n",
       "        [ 853326,   52052,       5, ...,       0,       0,     185]],\n",
       "       dtype=uint32),\n",
       " 'packetNums': array([65589828, 65589829, 65589830, ..., 67352385, 67352386, 67352387],\n",
       "       dtype=uint32)}"
      ]
     },
     "execution_count": 6,
     "metadata": {},
     "output_type": "execute_result"
    }
   ],
   "source": [
    "decoded"
   ]
  },
  {
   "cell_type": "code",
   "execution_count": null,
   "metadata": {},
   "outputs": [],
   "source": []
  }
 ],
 "metadata": {
  "kernelspec": {
   "display_name": "Python 3",
   "language": "python",
   "name": "python3"
  },
  "language_info": {
   "codemirror_mode": {
    "name": "ipython",
    "version": 3
   },
   "file_extension": ".py",
   "mimetype": "text/x-python",
   "name": "python",
   "nbconvert_exporter": "python",
   "pygments_lexer": "ipython3",
   "version": "3.6.9 (default, Nov 25 2022, 14:10:45) \n[GCC 8.4.0]"
  },
  "vscode": {
   "interpreter": {
    "hash": "31f2aee4e71d21fbe5cf8b01ff0e069b9275f58929596ceb00d14d90e3e16cd6"
   }
  }
 },
 "nbformat": 4,
 "nbformat_minor": 5
}
